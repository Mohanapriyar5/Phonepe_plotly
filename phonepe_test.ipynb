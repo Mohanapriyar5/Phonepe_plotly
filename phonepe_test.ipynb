{
 "cells": [
  {
   "cell_type": "code",
   "execution_count": null,
   "id": "c890f0dc-c3e4-41ba-91ae-108f78552d43",
   "metadata": {},
   "outputs": [],
   "source": [
    "import pandas as pd\n",
    "import mysql.connector \n",
    "import plotly.express as px\n",
    "import requests\n",
    "import json"
   ]
  },
  {
   "cell_type": "code",
   "execution_count": null,
   "id": "9f37a250-0876-44bf-9774-cc753b8c7e96",
   "metadata": {},
   "outputs": [],
   "source": [
    "sqlconn = mysql.connector.connect(\n",
    "        host=\"localhost\",\n",
    "        user=\"root\",\n",
    "        password=\"root\",\n",
    "        database = \"phonepe_data\")\n",
    "cursor = sqlconn.cursor()\n",
    "\n",
    "#Taking aggregated_insurance_df\n",
    "cursor.execute(\"select * from aggregated_insurance\")\n",
    "table1 = cursor.fetchall()\n",
    "sqlconn.commit()\n",
    "\n",
    "Aggregated_insurance = pd.DataFrame(table1,columns=(\"States\",\"Years\",\"Quarter\",\"Transaction_type\",\n",
    "                                                    \"Transaction_count\",\"Transaction_amount\"))\n",
    "\n",
    "#Taking aggregated_transaction_df\n",
    "cursor.execute(\"select * from aggregated_transaction\")\n",
    "table2 = cursor.fetchall()\n",
    "sqlconn.commit()\n",
    "\n",
    "Aggregated_transaction = pd.DataFrame(table2,columns=(\"States\",\"Years\",\"Quarter\",\"Transaction_type\",\n",
    "                                                    \"Transaction_count\",\"Transaction_amount\"))\n",
    "\n",
    "#Taking aggregated_user_df\n",
    "cursor.execute(\"select * from aggregated_user\")\n",
    "table3 = cursor.fetchall()\n",
    "sqlconn.commit()\n",
    "\n",
    "Aggregated_user = pd.DataFrame(table3,columns=(\"States\",\"Years\",\"Quarter\",\"Brands\",\n",
    "                                                    \"Transaction_count\",\"Percentage\"))"
   ]
  },
  {
   "cell_type": "code",
   "execution_count": null,
   "id": "c4bba7ff-8879-43c3-a727-e6a2ea3c3f1a",
   "metadata": {},
   "outputs": [],
   "source": [
    "Aggregated_insurance"
   ]
  },
  {
   "cell_type": "code",
   "execution_count": null,
   "id": "d860d03c-d68e-479f-99b8-c4a96eef5bf0",
   "metadata": {},
   "outputs": [],
   "source": [
    "#Taking map_insurance_df\n",
    "cursor.execute(\"select * from map_insurance\")\n",
    "table4 = cursor.fetchall()\n",
    "sqlconn.commit()\n",
    "\n",
    "Map_insurance = pd.DataFrame(table4,columns=(\"States\",\"Years\",\"Quarter\",\"District\",\n",
    "                                                    \"Transaction_count\",\"Transaction_amount\"))\n",
    "\n",
    "#Taking map_transaction_df\n",
    "cursor.execute(\"select * from map_transaction\")\n",
    "table5 = cursor.fetchall()\n",
    "sqlconn.commit()\n",
    "\n",
    "Map_transaction = pd.DataFrame(table5,columns=(\"States\",\"Years\",\"Quarter\",\"District\",\n",
    "                                                    \"Transaction_count\",\"Transaction_amount\"))\n",
    "\n",
    "#Taking map_user_df\n",
    "cursor.execute(\"select * from map_insurance\")\n",
    "table6 = cursor.fetchall()\n",
    "sqlconn.commit()\n",
    "\n",
    "Map_user = pd.DataFrame(table6,columns=(\"States\",\"Years\",\"Quarter\",\"District\",\n",
    "                                                    \"RegisteredUser\",\"AppOpens\"))"
   ]
  },
  {
   "cell_type": "code",
   "execution_count": null,
   "id": "9067fbba-bee9-4912-b4e4-391a23c31f8c",
   "metadata": {},
   "outputs": [],
   "source": [
    "Map_user"
   ]
  },
  {
   "cell_type": "code",
   "execution_count": null,
   "id": "1cca79ad-7947-423e-994f-3bf61484a50f",
   "metadata": {},
   "outputs": [],
   "source": [
    "#Taking top_insurance_df\n",
    "cursor.execute(\"select * from top_insurance\")\n",
    "table7 = cursor.fetchall()\n",
    "sqlconn.commit()\n",
    "\n",
    "Top_insurance = pd.DataFrame(table7,columns=(\"States\",\"Years\",\"Quarter\",\"Pincodes\",\n",
    "                                                    \"Transaction_count\",\"Transaction_amount\"))\n",
    "\n",
    "#Taking top_transaction_df\n",
    "cursor.execute(\"select * from top_transaction\")\n",
    "table8 = cursor.fetchall()\n",
    "sqlconn.commit()\n",
    "\n",
    "Top_transaction = pd.DataFrame(table8,columns=(\"States\",\"Years\",\"Quarter\",\"Pincodes\",\n",
    "                                                    \"Transaction_count\",\"Transaction_amount\"))\n",
    "\n",
    "#Taking top_user_df\n",
    "cursor.execute(\"select * from top_user\")\n",
    "table9 = cursor.fetchall()\n",
    "sqlconn.commit()\n",
    "\n",
    "Top_user = pd.DataFrame(table9,columns=(\"States\",\"Years\",\"Quarter\",\"Pincodes\",\n",
    "                                                    \"RegisteredUser\"))"
   ]
  },
  {
   "cell_type": "code",
   "execution_count": null,
   "id": "477f6c4c-0d1c-4dfb-8e57-a09c3b8bb6a3",
   "metadata": {},
   "outputs": [],
   "source": [
    "Top_transaction"
   ]
  },
  {
   "cell_type": "code",
   "execution_count": null,
   "id": "cef88404-57d0-4102-89bd-9257b447dbb0",
   "metadata": {},
   "outputs": [],
   "source": [
    "def top_chart_transaction_amount(table_name):\n",
    "    sqlconn = mysql.connector.connect(\n",
    "            host=\"localhost\",\n",
    "            user=\"root\",\n",
    "            password=\"root\",\n",
    "            database = \"phonepe_data\")\n",
    "    cursor = sqlconn.cursor()\n",
    "    \n",
    "    \n",
    "    # Top 10\n",
    "    query1 = f'''select States,sum(Transaction_amount) as Transaction_amount from {table_name} \n",
    "                group by States\n",
    "                order by Transaction_amount desc\n",
    "                limit 10;'''\n",
    "    cursor.execute(query1)\n",
    "    table_1 = cursor.fetchall()\n",
    "    sqlconn.commit()\n",
    "    \n",
    "    df_1 = pd.DataFrame(table_1, columns = (\"States\", \"Transaction_amount\"))\n",
    "\n",
    "    fig_pie1 = px.pie(data_frame = df_1, names=\"States\", values= \"Transaction_amount\",\n",
    "                      width = 800, title= \"TRANSACTION AMOUNT\",hole=0.3)\n",
    "    fig_pie1.show()\n",
    "    '''\n",
    "    fig_amount_1 = px.bar(df_1,x='States',y='Transaction_amount',title=\"TRANSACTION AMOUNT\", hover_name = \"States\",\n",
    "                        color_discrete_sequence=px.colors.sequential.Sunsetdark_r,height=500, width = 500)\n",
    "    fig_amount_1.show()\n",
    "    '''\n",
    "    \n",
    "    # Bottom 10\n",
    "    query2 = f'''select States,sum(Transaction_amount) as Transaction_amount from {table_name} \n",
    "                group by States\n",
    "                order by Transaction_amount \n",
    "                limit 10;'''\n",
    "    cursor.execute(query2)\n",
    "    table_2 = cursor.fetchall()\n",
    "    sqlconn.commit()\n",
    "    \n",
    "    df_2 = pd.DataFrame(table_2, columns = (\"States\", \"Transaction_amount\"))\n",
    "    \n",
    "    fig_amount_2 = px.bar(df_2,x='States',y='Transaction_amount',title=\"TRANSACTION AMOUNT\", hover_name = \"States\",\n",
    "                        color_discrete_sequence=px.colors.sequential.Sunsetdark,height=500, width = 500)\n",
    "    fig_amount_2.show()\n",
    "    \n",
    "    \n",
    "    # Average\n",
    "    query3 = f'''select States,avg(Transaction_amount) as Transaction_amount from {table_name} \n",
    "                group by States\n",
    "                order by Transaction_amount;'''\n",
    "    cursor.execute(query3)\n",
    "    table_3 = cursor.fetchall()\n",
    "    sqlconn.commit()\n",
    "    \n",
    "    df_3 = pd.DataFrame(table_3, columns = (\"States\", \"Transaction_amount\"))\n",
    "    \n",
    "    fig_amount_3 = px.bar(df_3,x='Transaction_amount',y='States',title=\"TRANSACTION AMOUNT\", orientation = \"h\",\n",
    "                          hover_name = \"States\", color_discrete_sequence=px.colors.sequential.Magenta,height=500, width = 500)\n",
    "    fig_amount_3.show()"
   ]
  },
  {
   "cell_type": "code",
   "execution_count": null,
   "id": "bbedce15-a657-4f87-b04c-13448352e5d1",
   "metadata": {},
   "outputs": [],
   "source": [
    "top_chart_transaction_amount(\"aggregated_transaction\")"
   ]
  },
  {
   "cell_type": "code",
   "execution_count": null,
   "id": "2e994f6c-a2e8-4e22-b960-0c397ebfbdc8",
   "metadata": {},
   "outputs": [],
   "source": [
    "def top_chart_transaction_count(table_name):\n",
    "    sqlconn = mysql.connector.connect(\n",
    "            host=\"localhost\",\n",
    "            user=\"root\",\n",
    "            password=\"root\",\n",
    "            database = \"phonepe_data\")\n",
    "    cursor = sqlconn.cursor()\n",
    "    \n",
    "    \n",
    "    # Top 10\n",
    "    query1 = f'''select States,sum(Transaction_count) as Transaction_count from {table_name} \n",
    "                group by States\n",
    "                order by Transaction_count desc\n",
    "                limit 10;'''\n",
    "    cursor.execute(query1)\n",
    "    table_1 = cursor.fetchall()\n",
    "    sqlconn.commit()\n",
    "    \n",
    "    df_1 = pd.DataFrame(table_1, columns = (\"States\", \"Transaction_count\"))\n",
    "\n",
    "\n",
    "    fig_pie1 = px.pie(data_frame = df_1, names=\"States\", values= \"Transaction_count\",\n",
    "                      width = 800, title= \"TOP 10 TRANSACTION COUNT\",hole=0.3)\n",
    "    fig_pie1.show()\n",
    "    \n",
    "    #fig_amount_1 = px.bar(df_1,x='States',y='Transaction_count',title=\"TRANSACTION COUNT\", hover_name = \"States\",\n",
    "     #                   color_discrete_sequence=px.colors.sequential.Sunsetdark_r,height=500, width = 500)\n",
    "    #fig_amount_1.show()\n",
    "    \n",
    "    \n",
    "    # Bottom 10\n",
    "    query2 = f'''select States,sum(Transaction_count) as Transaction_count from {table_name} \n",
    "                group by States\n",
    "                order by Transaction_count \n",
    "                limit 10;'''\n",
    "    cursor.execute(query2)\n",
    "    table_2 = cursor.fetchall()\n",
    "    sqlconn.commit()\n",
    "    \n",
    "    df_2 = pd.DataFrame(table_2, columns = (\"States\", \"Transaction_count\"))\n",
    "\n",
    "    fig_pie2 = px.pie(data_frame = df_2, names=\"States\", values= \"Transaction_count\",\n",
    "                      width = 800, title= \"LEAST 10 TRANSACTION COUNT\",hole=0.3)\n",
    "    fig_pie2.show()\n",
    "    \n",
    "    #fig_amount_2 = px.bar(df_2,x='States',y='Transaction_count',title=\"TRANSACTION COUNT\", hover_name = \"States\",\n",
    "    #                    color_discrete_sequence=px.colors.sequential.Sunsetdark,height=500, width = 500)\n",
    "    #fig_amount_2.show()\n",
    "    \n",
    "    \n",
    "    # Average\n",
    "    query3 = f'''select States,avg(Transaction_count) as Transaction_count from {table_name} \n",
    "                group by States\n",
    "                order by Transaction_count;'''\n",
    "    cursor.execute(query3)\n",
    "    table_3 = cursor.fetchall()\n",
    "    sqlconn.commit()\n",
    "    \n",
    "    df_3 = pd.DataFrame(table_3, columns = (\"States\", \"Transaction_count\"))\n",
    "  \n",
    "    fig_amount_3 = px.bar(df_3,x='Transaction_count',y='States',title=\"AVERAGE TRANSACTION COUNT\", orientation = \"h\",\n",
    "                          hover_name = \"States\", color_discrete_sequence=px.colors.sequential.Magenta,height=500, width = 500)\n",
    "    fig_amount_3.show()"
   ]
  },
  {
   "cell_type": "code",
   "execution_count": null,
   "id": "9c54d07f-40f1-472d-8640-fbd46511b06f",
   "metadata": {},
   "outputs": [],
   "source": [
    "top_chart_transaction_count(\"aggregated_insurance\")"
   ]
  },
  {
   "cell_type": "code",
   "execution_count": null,
   "id": "29cbb37c-3612-4ba7-967b-6eb3b930df4d",
   "metadata": {},
   "outputs": [],
   "source": [
    "def top_chart_registered_user(table_name, state):\n",
    "    sqlconn = mysql.connector.connect(\n",
    "            host=\"localhost\",\n",
    "            user=\"root\",\n",
    "            password=\"root\",\n",
    "            database = \"phonepe_data\")\n",
    "    cursor = sqlconn.cursor()\n",
    "    \n",
    "    \n",
    "    # Top 10\n",
    "    query1 = f'''select Districts, sum(RegisteredUser) as RegisteredUser from {table_name}\n",
    "                where States= '{state}'\n",
    "                group by Districts\n",
    "                order by Registereduser desc\n",
    "                limit 10;'''\n",
    "    cursor.execute(query1)\n",
    "    table_1 = cursor.fetchall()\n",
    "    sqlconn.commit()\n",
    "    \n",
    "    df_1 = pd.DataFrame(table_1, columns = (\"Districts\", \"RegisteredUser\"))\n",
    "    '''\n",
    "    fig_pie1 = px.pie(data_frame = df_1, names=\"States\", values= \"Transaction_amount\",\n",
    "                      width = 800, title= \"TRANSACTION AMOUNT\",hole=0.3)\n",
    "    fig_pie1.show()\n",
    "    '''    \n",
    "    fig_amount_1 = px.bar(df_1,x='Districts',y='RegisteredUser',title=\"TOP 10 REGISTERED USER\", hover_name = \"Districts\",\n",
    "                        color_discrete_sequence=px.colors.sequential.Sunsetdark_r,height=500, width = 500)\n",
    "    fig_amount_1.show()\n",
    "    \n",
    "    \n",
    "    # Bottom 10\n",
    "    query2 = f'''select Districts, sum(RegisteredUser) as RegisteredUser from {table_name}\n",
    "                where States= '{state}'\n",
    "                group by Districts\n",
    "                order by Registereduser\n",
    "                limit 10;'''\n",
    "    cursor.execute(query2)\n",
    "    table_2 = cursor.fetchall()\n",
    "    sqlconn.commit()\n",
    "    \n",
    "    df_2 = pd.DataFrame(table_2, columns = (\"Districts\", \"RegisteredUser\"))\n",
    "    \n",
    "    fig_amount_2 = px.bar(df_2,x='Districts',y='RegisteredUser',title=\"LEAST 10 REGISTERED USER\", hover_name = \"Districts\",\n",
    "                        color_discrete_sequence=px.colors.sequential.Sunsetdark,height=500, width = 500)\n",
    "    fig_amount_2.show()\n",
    "    \n",
    "    \n",
    "    # Average\n",
    "    query3 = f'''select Districts, avg(RegisteredUser) as RegisteredUser from {table_name}\n",
    "                where States= '{state}'\n",
    "                group by Districts\n",
    "                order by Registereduser;'''\n",
    "    cursor.execute(query3)\n",
    "    table_3 = cursor.fetchall()\n",
    "    sqlconn.commit()\n",
    "    \n",
    "    df_3 = pd.DataFrame(table_3, columns = (\"Districts\", \"RegisteredUser\"))\n",
    "    \n",
    "    fig_amount_3 = px.bar(df_3,x='RegisteredUser',y='Districts',title=\"AVERAGE REGISTERED USER\", orientation = \"h\",\n",
    "                          hover_name = \"Districts\", color_discrete_sequence=px.colors.sequential.Magenta,height=500, width = 800)\n",
    "    fig_amount_3.show()"
   ]
  },
  {
   "cell_type": "code",
   "execution_count": null,
   "id": "21c7b403-f7cc-4d1c-90be-0411cae46ba7",
   "metadata": {},
   "outputs": [],
   "source": [
    "top_chart_registered_user(\"map_user\", \"Tamil Nadu\")"
   ]
  },
  {
   "cell_type": "code",
   "execution_count": null,
   "id": "b21bd605-1b0e-4dc5-b040-9fc995f035b6",
   "metadata": {},
   "outputs": [],
   "source": [
    "def top_chart_app_opens(table_name, state):\n",
    "    sqlconn = mysql.connector.connect(\n",
    "            host=\"localhost\",\n",
    "            user=\"root\",\n",
    "            password=\"root\",\n",
    "            database = \"phonepe_data\")\n",
    "    cursor = sqlconn.cursor()\n",
    "    \n",
    "    \n",
    "    # Top 10\n",
    "    query1 = f'''select Districts, sum(AppOpens) as AppOpens from {table_name}\n",
    "                where States= '{state}'\n",
    "                group by Districts\n",
    "                order by AppOpens desc\n",
    "                limit 10;'''\n",
    "    cursor.execute(query1)\n",
    "    table_1 = cursor.fetchall()\n",
    "    sqlconn.commit()\n",
    "    \n",
    "    df_1 = pd.DataFrame(table_1, columns = (\"Districts\", \"AppOpens\"))\n",
    "        \n",
    "    fig_amount_1 = px.bar(df_1,x='Districts',y='AppOpens',title=\"TOP 10 APP OPENS\", hover_name = \"Districts\",\n",
    "                        color_discrete_sequence=px.colors.sequential.Sunsetdark_r,height=500, width = 500)\n",
    "    fig_amount_1.show()\n",
    "    \n",
    "    \n",
    "    # Bottom 10\n",
    "    query2 = f'''select Districts, sum(AppOpens) as AppOpens from {table_name}\n",
    "                where States= '{state}'\n",
    "                group by Districts\n",
    "                order by AppOpens\n",
    "                limit 10;'''\n",
    "    cursor.execute(query2)\n",
    "    table_2 = cursor.fetchall()\n",
    "    sqlconn.commit()\n",
    "    \n",
    "    df_2 = pd.DataFrame(table_2, columns = (\"Districts\", \"AppOpens\"))\n",
    "    \n",
    "    fig_amount_2 = px.bar(df_2,x='Districts',y='AppOpens',title=\"LEAST 10 APP OPENS\", hover_name = \"Districts\",\n",
    "                        color_discrete_sequence=px.colors.sequential.Sunsetdark,height=500, width = 500)\n",
    "    fig_amount_2.show()\n",
    "    \n",
    "    \n",
    "    # Average\n",
    "    query3 = f'''select Districts, avg(AppOpens) as AppOpens from {table_name}\n",
    "                where States= '{state}'\n",
    "                group by Districts\n",
    "                order by AppOpens;'''\n",
    "    cursor.execute(query3)\n",
    "    table_3 = cursor.fetchall()\n",
    "    sqlconn.commit()\n",
    "    \n",
    "    df_3 = pd.DataFrame(table_3, columns = (\"Districts\", \"AppOpens\"))\n",
    "    \n",
    "    fig_amount_3 = px.bar(df_3,x='AppOpens',y='Districts',title=\"AVERAGE APP OPENS\", orientation = \"h\",\n",
    "                          hover_name = \"Districts\", color_discrete_sequence=px.colors.sequential.Magenta,height=500, width = 800)\n",
    "    fig_amount_3.show()"
   ]
  },
  {
   "cell_type": "code",
   "execution_count": 73,
   "id": "4d2538b8-9e40-480e-b039-1a1551820795",
   "metadata": {},
   "outputs": [],
   "source": [
    "def top_chart_registered_user1(table_name):\n",
    "    sqlconn = mysql.connector.connect(\n",
    "            host=\"localhost\",\n",
    "            user=\"root\",\n",
    "            password=\"root\",\n",
    "            database = \"phonepe_data\")\n",
    "    cursor = sqlconn.cursor()\n",
    "    \n",
    "    \n",
    "    # Top 10\n",
    "    query1 = f'''select States, sum(RegisteredUser) as RegisteredUser from {table_name}\n",
    "                    group by States\n",
    "                    order by RegisteredUser desc\n",
    "                    limit 10;'''\n",
    "    cursor.execute(query1)\n",
    "    table_1 = cursor.fetchall()\n",
    "    sqlconn.commit()\n",
    "    \n",
    "    df_1 = pd.DataFrame(table_1, columns = (\"States\", \"RegisteredUser\"))\n",
    "        \n",
    "    fig_amount_1 = px.bar(df_1,x='States',y='RegisteredUser',title=\"TOP 10 REGISTERED USER\", hover_name = \"States\",\n",
    "                        color_discrete_sequence=px.colors.sequential.Sunsetdark_r,height=500, width = 500)\n",
    "    fig_amount_1.show()\n",
    "    \n",
    "    \n",
    "    # Bottom 10\n",
    "    query2 = f'''select States, sum(RegisteredUser) as RegisteredUser from {table_name}\n",
    "                    group by States\n",
    "                    order by RegisteredUser \n",
    "                    limit 10;'''\n",
    "    cursor.execute(query2)\n",
    "    table_2 = cursor.fetchall()\n",
    "    sqlconn.commit()\n",
    "    \n",
    "    df_2 = pd.DataFrame(table_2, columns = (\"States\", \"RegisteredUser\"))\n",
    "    \n",
    "    fig_amount_2 = px.bar(df_2,x='States',y='RegisteredUser',title=\"LEAST 10 REGISTERED USER\", hover_name = \"States\",\n",
    "                        color_discrete_sequence=px.colors.sequential.Sunsetdark,height=500, width = 500)\n",
    "    fig_amount_2.show()\n",
    "    \n",
    "    \n",
    "    # Average\n",
    "    query3 = f'''select States, avg(RegisteredUser) as RegisteredUser from {table_name}\n",
    "                    group by States\n",
    "                    order by RegisteredUser;'''\n",
    "    cursor.execute(query3)\n",
    "    table_3 = cursor.fetchall()\n",
    "    sqlconn.commit()\n",
    "    \n",
    "    df_3 = pd.DataFrame(table_3, columns = (\"States\", \"RegisteredUser\"))\n",
    "    \n",
    "    fig_amount_3 = px.bar(df_3,x='RegisteredUser',y='States',title=\"AVERAGE REGISTERED USER\", orientation = \"h\",\n",
    "                          hover_name = \"States\", color_discrete_sequence=px.colors.sequential.Magenta,height=500, width = 800)\n",
    "    fig_amount_3.show()"
   ]
  },
  {
   "cell_type": "code",
   "execution_count": 74,
   "id": "244e598a-6066-48b0-9e7a-76188df11b4a",
   "metadata": {},
   "outputs": [
    {
     "data": {
      "application/vnd.plotly.v1+json": {
       "config": {
        "plotlyServerURL": "https://plot.ly"
       },
       "data": [
        {
         "alignmentgroup": "True",
         "hovertemplate": "<b>%{hovertext}</b><br><br>States=%{x}<br>RegisteredUser=%{y}<extra></extra>",
         "hovertext": [
          "Delhi",
          "Karnataka",
          "Uttar Pradesh",
          "Maharashtra",
          "Haryana",
          "Telangana",
          "Rajasthan",
          "Gujarat",
          "Madhya Pradesh",
          "Bihar"
         ],
         "legendgroup": "",
         "marker": {
          "color": "rgb(124, 29, 111)",
          "pattern": {
           "shape": ""
          }
         },
         "name": "",
         "offsetgroup": "",
         "orientation": "v",
         "showlegend": false,
         "textposition": "auto",
         "type": "bar",
         "x": [
          "Delhi",
          "Karnataka",
          "Uttar Pradesh",
          "Maharashtra",
          "Haryana",
          "Telangana",
          "Rajasthan",
          "Gujarat",
          "Madhya Pradesh",
          "Bihar"
         ],
         "xaxis": "x",
         "y": [
          64049056,
          59577831,
          56924529,
          56919627,
          48867551,
          46953764,
          43038687,
          35484570,
          33835370,
          31199098
         ],
         "yaxis": "y"
        }
       ],
       "layout": {
        "barmode": "relative",
        "height": 500,
        "legend": {
         "tracegroupgap": 0
        },
        "template": {
         "data": {
          "bar": [
           {
            "error_x": {
             "color": "#2a3f5f"
            },
            "error_y": {
             "color": "#2a3f5f"
            },
            "marker": {
             "line": {
              "color": "#E5ECF6",
              "width": 0.5
             },
             "pattern": {
              "fillmode": "overlay",
              "size": 10,
              "solidity": 0.2
             }
            },
            "type": "bar"
           }
          ],
          "barpolar": [
           {
            "marker": {
             "line": {
              "color": "#E5ECF6",
              "width": 0.5
             },
             "pattern": {
              "fillmode": "overlay",
              "size": 10,
              "solidity": 0.2
             }
            },
            "type": "barpolar"
           }
          ],
          "carpet": [
           {
            "aaxis": {
             "endlinecolor": "#2a3f5f",
             "gridcolor": "white",
             "linecolor": "white",
             "minorgridcolor": "white",
             "startlinecolor": "#2a3f5f"
            },
            "baxis": {
             "endlinecolor": "#2a3f5f",
             "gridcolor": "white",
             "linecolor": "white",
             "minorgridcolor": "white",
             "startlinecolor": "#2a3f5f"
            },
            "type": "carpet"
           }
          ],
          "choropleth": [
           {
            "colorbar": {
             "outlinewidth": 0,
             "ticks": ""
            },
            "type": "choropleth"
           }
          ],
          "contour": [
           {
            "colorbar": {
             "outlinewidth": 0,
             "ticks": ""
            },
            "colorscale": [
             [
              0,
              "#0d0887"
             ],
             [
              0.1111111111111111,
              "#46039f"
             ],
             [
              0.2222222222222222,
              "#7201a8"
             ],
             [
              0.3333333333333333,
              "#9c179e"
             ],
             [
              0.4444444444444444,
              "#bd3786"
             ],
             [
              0.5555555555555556,
              "#d8576b"
             ],
             [
              0.6666666666666666,
              "#ed7953"
             ],
             [
              0.7777777777777778,
              "#fb9f3a"
             ],
             [
              0.8888888888888888,
              "#fdca26"
             ],
             [
              1,
              "#f0f921"
             ]
            ],
            "type": "contour"
           }
          ],
          "contourcarpet": [
           {
            "colorbar": {
             "outlinewidth": 0,
             "ticks": ""
            },
            "type": "contourcarpet"
           }
          ],
          "heatmap": [
           {
            "colorbar": {
             "outlinewidth": 0,
             "ticks": ""
            },
            "colorscale": [
             [
              0,
              "#0d0887"
             ],
             [
              0.1111111111111111,
              "#46039f"
             ],
             [
              0.2222222222222222,
              "#7201a8"
             ],
             [
              0.3333333333333333,
              "#9c179e"
             ],
             [
              0.4444444444444444,
              "#bd3786"
             ],
             [
              0.5555555555555556,
              "#d8576b"
             ],
             [
              0.6666666666666666,
              "#ed7953"
             ],
             [
              0.7777777777777778,
              "#fb9f3a"
             ],
             [
              0.8888888888888888,
              "#fdca26"
             ],
             [
              1,
              "#f0f921"
             ]
            ],
            "type": "heatmap"
           }
          ],
          "heatmapgl": [
           {
            "colorbar": {
             "outlinewidth": 0,
             "ticks": ""
            },
            "colorscale": [
             [
              0,
              "#0d0887"
             ],
             [
              0.1111111111111111,
              "#46039f"
             ],
             [
              0.2222222222222222,
              "#7201a8"
             ],
             [
              0.3333333333333333,
              "#9c179e"
             ],
             [
              0.4444444444444444,
              "#bd3786"
             ],
             [
              0.5555555555555556,
              "#d8576b"
             ],
             [
              0.6666666666666666,
              "#ed7953"
             ],
             [
              0.7777777777777778,
              "#fb9f3a"
             ],
             [
              0.8888888888888888,
              "#fdca26"
             ],
             [
              1,
              "#f0f921"
             ]
            ],
            "type": "heatmapgl"
           }
          ],
          "histogram": [
           {
            "marker": {
             "pattern": {
              "fillmode": "overlay",
              "size": 10,
              "solidity": 0.2
             }
            },
            "type": "histogram"
           }
          ],
          "histogram2d": [
           {
            "colorbar": {
             "outlinewidth": 0,
             "ticks": ""
            },
            "colorscale": [
             [
              0,
              "#0d0887"
             ],
             [
              0.1111111111111111,
              "#46039f"
             ],
             [
              0.2222222222222222,
              "#7201a8"
             ],
             [
              0.3333333333333333,
              "#9c179e"
             ],
             [
              0.4444444444444444,
              "#bd3786"
             ],
             [
              0.5555555555555556,
              "#d8576b"
             ],
             [
              0.6666666666666666,
              "#ed7953"
             ],
             [
              0.7777777777777778,
              "#fb9f3a"
             ],
             [
              0.8888888888888888,
              "#fdca26"
             ],
             [
              1,
              "#f0f921"
             ]
            ],
            "type": "histogram2d"
           }
          ],
          "histogram2dcontour": [
           {
            "colorbar": {
             "outlinewidth": 0,
             "ticks": ""
            },
            "colorscale": [
             [
              0,
              "#0d0887"
             ],
             [
              0.1111111111111111,
              "#46039f"
             ],
             [
              0.2222222222222222,
              "#7201a8"
             ],
             [
              0.3333333333333333,
              "#9c179e"
             ],
             [
              0.4444444444444444,
              "#bd3786"
             ],
             [
              0.5555555555555556,
              "#d8576b"
             ],
             [
              0.6666666666666666,
              "#ed7953"
             ],
             [
              0.7777777777777778,
              "#fb9f3a"
             ],
             [
              0.8888888888888888,
              "#fdca26"
             ],
             [
              1,
              "#f0f921"
             ]
            ],
            "type": "histogram2dcontour"
           }
          ],
          "mesh3d": [
           {
            "colorbar": {
             "outlinewidth": 0,
             "ticks": ""
            },
            "type": "mesh3d"
           }
          ],
          "parcoords": [
           {
            "line": {
             "colorbar": {
              "outlinewidth": 0,
              "ticks": ""
             }
            },
            "type": "parcoords"
           }
          ],
          "pie": [
           {
            "automargin": true,
            "type": "pie"
           }
          ],
          "scatter": [
           {
            "fillpattern": {
             "fillmode": "overlay",
             "size": 10,
             "solidity": 0.2
            },
            "type": "scatter"
           }
          ],
          "scatter3d": [
           {
            "line": {
             "colorbar": {
              "outlinewidth": 0,
              "ticks": ""
             }
            },
            "marker": {
             "colorbar": {
              "outlinewidth": 0,
              "ticks": ""
             }
            },
            "type": "scatter3d"
           }
          ],
          "scattercarpet": [
           {
            "marker": {
             "colorbar": {
              "outlinewidth": 0,
              "ticks": ""
             }
            },
            "type": "scattercarpet"
           }
          ],
          "scattergeo": [
           {
            "marker": {
             "colorbar": {
              "outlinewidth": 0,
              "ticks": ""
             }
            },
            "type": "scattergeo"
           }
          ],
          "scattergl": [
           {
            "marker": {
             "colorbar": {
              "outlinewidth": 0,
              "ticks": ""
             }
            },
            "type": "scattergl"
           }
          ],
          "scattermapbox": [
           {
            "marker": {
             "colorbar": {
              "outlinewidth": 0,
              "ticks": ""
             }
            },
            "type": "scattermapbox"
           }
          ],
          "scatterpolar": [
           {
            "marker": {
             "colorbar": {
              "outlinewidth": 0,
              "ticks": ""
             }
            },
            "type": "scatterpolar"
           }
          ],
          "scatterpolargl": [
           {
            "marker": {
             "colorbar": {
              "outlinewidth": 0,
              "ticks": ""
             }
            },
            "type": "scatterpolargl"
           }
          ],
          "scatterternary": [
           {
            "marker": {
             "colorbar": {
              "outlinewidth": 0,
              "ticks": ""
             }
            },
            "type": "scatterternary"
           }
          ],
          "surface": [
           {
            "colorbar": {
             "outlinewidth": 0,
             "ticks": ""
            },
            "colorscale": [
             [
              0,
              "#0d0887"
             ],
             [
              0.1111111111111111,
              "#46039f"
             ],
             [
              0.2222222222222222,
              "#7201a8"
             ],
             [
              0.3333333333333333,
              "#9c179e"
             ],
             [
              0.4444444444444444,
              "#bd3786"
             ],
             [
              0.5555555555555556,
              "#d8576b"
             ],
             [
              0.6666666666666666,
              "#ed7953"
             ],
             [
              0.7777777777777778,
              "#fb9f3a"
             ],
             [
              0.8888888888888888,
              "#fdca26"
             ],
             [
              1,
              "#f0f921"
             ]
            ],
            "type": "surface"
           }
          ],
          "table": [
           {
            "cells": {
             "fill": {
              "color": "#EBF0F8"
             },
             "line": {
              "color": "white"
             }
            },
            "header": {
             "fill": {
              "color": "#C8D4E3"
             },
             "line": {
              "color": "white"
             }
            },
            "type": "table"
           }
          ]
         },
         "layout": {
          "annotationdefaults": {
           "arrowcolor": "#2a3f5f",
           "arrowhead": 0,
           "arrowwidth": 1
          },
          "autotypenumbers": "strict",
          "coloraxis": {
           "colorbar": {
            "outlinewidth": 0,
            "ticks": ""
           }
          },
          "colorscale": {
           "diverging": [
            [
             0,
             "#8e0152"
            ],
            [
             0.1,
             "#c51b7d"
            ],
            [
             0.2,
             "#de77ae"
            ],
            [
             0.3,
             "#f1b6da"
            ],
            [
             0.4,
             "#fde0ef"
            ],
            [
             0.5,
             "#f7f7f7"
            ],
            [
             0.6,
             "#e6f5d0"
            ],
            [
             0.7,
             "#b8e186"
            ],
            [
             0.8,
             "#7fbc41"
            ],
            [
             0.9,
             "#4d9221"
            ],
            [
             1,
             "#276419"
            ]
           ],
           "sequential": [
            [
             0,
             "#0d0887"
            ],
            [
             0.1111111111111111,
             "#46039f"
            ],
            [
             0.2222222222222222,
             "#7201a8"
            ],
            [
             0.3333333333333333,
             "#9c179e"
            ],
            [
             0.4444444444444444,
             "#bd3786"
            ],
            [
             0.5555555555555556,
             "#d8576b"
            ],
            [
             0.6666666666666666,
             "#ed7953"
            ],
            [
             0.7777777777777778,
             "#fb9f3a"
            ],
            [
             0.8888888888888888,
             "#fdca26"
            ],
            [
             1,
             "#f0f921"
            ]
           ],
           "sequentialminus": [
            [
             0,
             "#0d0887"
            ],
            [
             0.1111111111111111,
             "#46039f"
            ],
            [
             0.2222222222222222,
             "#7201a8"
            ],
            [
             0.3333333333333333,
             "#9c179e"
            ],
            [
             0.4444444444444444,
             "#bd3786"
            ],
            [
             0.5555555555555556,
             "#d8576b"
            ],
            [
             0.6666666666666666,
             "#ed7953"
            ],
            [
             0.7777777777777778,
             "#fb9f3a"
            ],
            [
             0.8888888888888888,
             "#fdca26"
            ],
            [
             1,
             "#f0f921"
            ]
           ]
          },
          "colorway": [
           "#636efa",
           "#EF553B",
           "#00cc96",
           "#ab63fa",
           "#FFA15A",
           "#19d3f3",
           "#FF6692",
           "#B6E880",
           "#FF97FF",
           "#FECB52"
          ],
          "font": {
           "color": "#2a3f5f"
          },
          "geo": {
           "bgcolor": "white",
           "lakecolor": "white",
           "landcolor": "#E5ECF6",
           "showlakes": true,
           "showland": true,
           "subunitcolor": "white"
          },
          "hoverlabel": {
           "align": "left"
          },
          "hovermode": "closest",
          "mapbox": {
           "style": "light"
          },
          "paper_bgcolor": "white",
          "plot_bgcolor": "#E5ECF6",
          "polar": {
           "angularaxis": {
            "gridcolor": "white",
            "linecolor": "white",
            "ticks": ""
           },
           "bgcolor": "#E5ECF6",
           "radialaxis": {
            "gridcolor": "white",
            "linecolor": "white",
            "ticks": ""
           }
          },
          "scene": {
           "xaxis": {
            "backgroundcolor": "#E5ECF6",
            "gridcolor": "white",
            "gridwidth": 2,
            "linecolor": "white",
            "showbackground": true,
            "ticks": "",
            "zerolinecolor": "white"
           },
           "yaxis": {
            "backgroundcolor": "#E5ECF6",
            "gridcolor": "white",
            "gridwidth": 2,
            "linecolor": "white",
            "showbackground": true,
            "ticks": "",
            "zerolinecolor": "white"
           },
           "zaxis": {
            "backgroundcolor": "#E5ECF6",
            "gridcolor": "white",
            "gridwidth": 2,
            "linecolor": "white",
            "showbackground": true,
            "ticks": "",
            "zerolinecolor": "white"
           }
          },
          "shapedefaults": {
           "line": {
            "color": "#2a3f5f"
           }
          },
          "ternary": {
           "aaxis": {
            "gridcolor": "white",
            "linecolor": "white",
            "ticks": ""
           },
           "baxis": {
            "gridcolor": "white",
            "linecolor": "white",
            "ticks": ""
           },
           "bgcolor": "#E5ECF6",
           "caxis": {
            "gridcolor": "white",
            "linecolor": "white",
            "ticks": ""
           }
          },
          "title": {
           "x": 0.05
          },
          "xaxis": {
           "automargin": true,
           "gridcolor": "white",
           "linecolor": "white",
           "ticks": "",
           "title": {
            "standoff": 15
           },
           "zerolinecolor": "white",
           "zerolinewidth": 2
          },
          "yaxis": {
           "automargin": true,
           "gridcolor": "white",
           "linecolor": "white",
           "ticks": "",
           "title": {
            "standoff": 15
           },
           "zerolinecolor": "white",
           "zerolinewidth": 2
          }
         }
        },
        "title": {
         "text": "TOP 10 REGISTERED USER"
        },
        "width": 500,
        "xaxis": {
         "anchor": "y",
         "autorange": true,
         "domain": [
          0,
          1
         ],
         "range": [
          -0.5,
          9.5
         ],
         "title": {
          "text": "States"
         },
         "type": "category"
        },
        "yaxis": {
         "anchor": "x",
         "autorange": true,
         "domain": [
          0,
          1
         ],
         "range": [
          0,
          67420058.94736843
         ],
         "title": {
          "text": "RegisteredUser"
         },
         "type": "linear"
        }
       }
      },
      "image/png": "[encoded data removed]",
      "text/html": [
       "<div>                            <div id=\"f075690d-191e-48ef-9c98-80e78b58acb5\" class=\"plotly-graph-div\" style=\"height:500px; width:500px;\"></div>            <script type=\"text/javascript\">                require([\"plotly\"], function(Plotly) {                    window.PLOTLYENV=window.PLOTLYENV || {};                                    if (document.getElementById(\"f075690d-191e-48ef-9c98-80e78b58acb5\")) {                    Plotly.newPlot(                        \"f075690d-191e-48ef-9c98-80e78b58acb5\",                        [{\"alignmentgroup\":\"True\",\"hovertemplate\":\"\\u003cb\\u003e%{hovertext}\\u003c\\u002fb\\u003e\\u003cbr\\u003e\\u003cbr\\u003eStates=%{x}\\u003cbr\\u003eRegisteredUser=%{y}\\u003cextra\\u003e\\u003c\\u002fextra\\u003e\",\"hovertext\":[\"Delhi\",\"Karnataka\",\"Uttar Pradesh\",\"Maharashtra\",\"Haryana\",\"Telangana\",\"Rajasthan\",\"Gujarat\",\"Madhya Pradesh\",\"Bihar\"],\"legendgroup\":\"\",\"marker\":{\"color\":\"rgb(124, 29, 111)\",\"pattern\":{\"shape\":\"\"}},\"name\":\"\",\"offsetgroup\":\"\",\"orientation\":\"v\",\"showlegend\":false,\"textposition\":\"auto\",\"x\":[\"Delhi\",\"Karnataka\",\"Uttar Pradesh\",\"Maharashtra\",\"Haryana\",\"Telangana\",\"Rajasthan\",\"Gujarat\",\"Madhya Pradesh\",\"Bihar\"],\"xaxis\":\"x\",\"y\":[64049056.0,59577831.0,56924529.0,56919627.0,48867551.0,46953764.0,43038687.0,35484570.0,33835370.0,31199098.0],\"yaxis\":\"y\",\"type\":\"bar\"}],                        {\"template\":{\"data\":{\"histogram2dcontour\":[{\"type\":\"histogram2dcontour\",\"colorbar\":{\"outlinewidth\":0,\"ticks\":\"\"},\"colorscale\":[[0.0,\"#0d0887\"],[0.1111111111111111,\"#46039f\"],[0.2222222222222222,\"#7201a8\"],[0.3333333333333333,\"#9c179e\"],[0.4444444444444444,\"#bd3786\"],[0.5555555555555556,\"#d8576b\"],[0.6666666666666666,\"#ed7953\"],[0.7777777777777778,\"#fb9f3a\"],[0.8888888888888888,\"#fdca26\"],[1.0,\"#f0f921\"]]}],\"choropleth\":[{\"type\":\"choropleth\",\"colorbar\":{\"outlinewidth\":0,\"ticks\":\"\"}}],\"histogram2d\":[{\"type\":\"histogram2d\",\"colorbar\":{\"outlinewidth\":0,\"ticks\":\"\"},\"colorscale\":[[0.0,\"#0d0887\"],[0.1111111111111111,\"#46039f\"],[0.2222222222222222,\"#7201a8\"],[0.3333333333333333,\"#9c179e\"],[0.4444444444444444,\"#bd3786\"],[0.5555555555555556,\"#d8576b\"],[0.6666666666666666,\"#ed7953\"],[0.7777777777777778,\"#fb9f3a\"],[0.8888888888888888,\"#fdca26\"],[1.0,\"#f0f921\"]]}],\"heatmap\":[{\"type\":\"heatmap\",\"colorbar\":{\"outlinewidth\":0,\"ticks\":\"\"},\"colorscale\":[[0.0,\"#0d0887\"],[0.1111111111111111,\"#46039f\"],[0.2222222222222222,\"#7201a8\"],[0.3333333333333333,\"#9c179e\"],[0.4444444444444444,\"#bd3786\"],[0.5555555555555556,\"#d8576b\"],[0.6666666666666666,\"#ed7953\"],[0.7777777777777778,\"#fb9f3a\"],[0.8888888888888888,\"#fdca26\"],[1.0,\"#f0f921\"]]}],\"heatmapgl\":[{\"type\":\"heatmapgl\",\"colorbar\":{\"outlinewidth\":0,\"ticks\":\"\"},\"colorscale\":[[0.0,\"#0d0887\"],[0.1111111111111111,\"#46039f\"],[0.2222222222222222,\"#7201a8\"],[0.3333333333333333,\"#9c179e\"],[0.4444444444444444,\"#bd3786\"],[0.5555555555555556,\"#d8576b\"],[0.6666666666666666,\"#ed7953\"],[0.7777777777777778,\"#fb9f3a\"],[0.8888888888888888,\"#fdca26\"],[1.0,\"#f0f921\"]]}],\"contourcarpet\":[{\"type\":\"contourcarpet\",\"colorbar\":{\"outlinewidth\":0,\"ticks\":\"\"}}],\"contour\":[{\"type\":\"contour\",\"colorbar\":{\"outlinewidth\":0,\"ticks\":\"\"},\"colorscale\":[[0.0,\"#0d0887\"],[0.1111111111111111,\"#46039f\"],[0.2222222222222222,\"#7201a8\"],[0.3333333333333333,\"#9c179e\"],[0.4444444444444444,\"#bd3786\"],[0.5555555555555556,\"#d8576b\"],[0.6666666666666666,\"#ed7953\"],[0.7777777777777778,\"#fb9f3a\"],[0.8888888888888888,\"#fdca26\"],[1.0,\"#f0f921\"]]}],\"surface\":[{\"type\":\"surface\",\"colorbar\":{\"outlinewidth\":0,\"ticks\":\"\"},\"colorscale\":[[0.0,\"#0d0887\"],[0.1111111111111111,\"#46039f\"],[0.2222222222222222,\"#7201a8\"],[0.3333333333333333,\"#9c179e\"],[0.4444444444444444,\"#bd3786\"],[0.5555555555555556,\"#d8576b\"],[0.6666666666666666,\"#ed7953\"],[0.7777777777777778,\"#fb9f3a\"],[0.8888888888888888,\"#fdca26\"],[1.0,\"#f0f921\"]]}],\"mesh3d\":[{\"type\":\"mesh3d\",\"colorbar\":{\"outlinewidth\":0,\"ticks\":\"\"}}],\"scatter\":[{\"fillpattern\":{\"fillmode\":\"overlay\",\"size\":10,\"solidity\":0.2},\"type\":\"scatter\"}],\"parcoords\":[{\"type\":\"parcoords\",\"line\":{\"colorbar\":{\"outlinewidth\":0,\"ticks\":\"\"}}}],\"scatterpolargl\":[{\"type\":\"scatterpolargl\",\"marker\":{\"colorbar\":{\"outlinewidth\":0,\"ticks\":\"\"}}}],\"bar\":[{\"error_x\":{\"color\":\"#2a3f5f\"},\"error_y\":{\"color\":\"#2a3f5f\"},\"marker\":{\"line\":{\"color\":\"#E5ECF6\",\"width\":0.5},\"pattern\":{\"fillmode\":\"overlay\",\"size\":10,\"solidity\":0.2}},\"type\":\"bar\"}],\"scattergeo\":[{\"type\":\"scattergeo\",\"marker\":{\"colorbar\":{\"outlinewidth\":0,\"ticks\":\"\"}}}],\"scatterpolar\":[{\"type\":\"scatterpolar\",\"marker\":{\"colorbar\":{\"outlinewidth\":0,\"ticks\":\"\"}}}],\"histogram\":[{\"marker\":{\"pattern\":{\"fillmode\":\"overlay\",\"size\":10,\"solidity\":0.2}},\"type\":\"histogram\"}],\"scattergl\":[{\"type\":\"scattergl\",\"marker\":{\"colorbar\":{\"outlinewidth\":0,\"ticks\":\"\"}}}],\"scatter3d\":[{\"type\":\"scatter3d\",\"line\":{\"colorbar\":{\"outlinewidth\":0,\"ticks\":\"\"}},\"marker\":{\"colorbar\":{\"outlinewidth\":0,\"ticks\":\"\"}}}],\"scattermapbox\":[{\"type\":\"scattermapbox\",\"marker\":{\"colorbar\":{\"outlinewidth\":0,\"ticks\":\"\"}}}],\"scatterternary\":[{\"type\":\"scatterternary\",\"marker\":{\"colorbar\":{\"outlinewidth\":0,\"ticks\":\"\"}}}],\"scattercarpet\":[{\"type\":\"scattercarpet\",\"marker\":{\"colorbar\":{\"outlinewidth\":0,\"ticks\":\"\"}}}],\"carpet\":[{\"aaxis\":{\"endlinecolor\":\"#2a3f5f\",\"gridcolor\":\"white\",\"linecolor\":\"white\",\"minorgridcolor\":\"white\",\"startlinecolor\":\"#2a3f5f\"},\"baxis\":{\"endlinecolor\":\"#2a3f5f\",\"gridcolor\":\"white\",\"linecolor\":\"white\",\"minorgridcolor\":\"white\",\"startlinecolor\":\"#2a3f5f\"},\"type\":\"carpet\"}],\"table\":[{\"cells\":{\"fill\":{\"color\":\"#EBF0F8\"},\"line\":{\"color\":\"white\"}},\"header\":{\"fill\":{\"color\":\"#C8D4E3\"},\"line\":{\"color\":\"white\"}},\"type\":\"table\"}],\"barpolar\":[{\"marker\":{\"line\":{\"color\":\"#E5ECF6\",\"width\":0.5},\"pattern\":{\"fillmode\":\"overlay\",\"size\":10,\"solidity\":0.2}},\"type\":\"barpolar\"}],\"pie\":[{\"automargin\":true,\"type\":\"pie\"}]},\"layout\":{\"autotypenumbers\":\"strict\",\"colorway\":[\"#636efa\",\"#EF553B\",\"#00cc96\",\"#ab63fa\",\"#FFA15A\",\"#19d3f3\",\"#FF6692\",\"#B6E880\",\"#FF97FF\",\"#FECB52\"],\"font\":{\"color\":\"#2a3f5f\"},\"hovermode\":\"closest\",\"hoverlabel\":{\"align\":\"left\"},\"paper_bgcolor\":\"white\",\"plot_bgcolor\":\"#E5ECF6\",\"polar\":{\"bgcolor\":\"#E5ECF6\",\"angularaxis\":{\"gridcolor\":\"white\",\"linecolor\":\"white\",\"ticks\":\"\"},\"radialaxis\":{\"gridcolor\":\"white\",\"linecolor\":\"white\",\"ticks\":\"\"}},\"ternary\":{\"bgcolor\":\"#E5ECF6\",\"aaxis\":{\"gridcolor\":\"white\",\"linecolor\":\"white\",\"ticks\":\"\"},\"baxis\":{\"gridcolor\":\"white\",\"linecolor\":\"white\",\"ticks\":\"\"},\"caxis\":{\"gridcolor\":\"white\",\"linecolor\":\"white\",\"ticks\":\"\"}},\"coloraxis\":{\"colorbar\":{\"outlinewidth\":0,\"ticks\":\"\"}},\"colorscale\":{\"sequential\":[[0.0,\"#0d0887\"],[0.1111111111111111,\"#46039f\"],[0.2222222222222222,\"#7201a8\"],[0.3333333333333333,\"#9c179e\"],[0.4444444444444444,\"#bd3786\"],[0.5555555555555556,\"#d8576b\"],[0.6666666666666666,\"#ed7953\"],[0.7777777777777778,\"#fb9f3a\"],[0.8888888888888888,\"#fdca26\"],[1.0,\"#f0f921\"]],\"sequentialminus\":[[0.0,\"#0d0887\"],[0.1111111111111111,\"#46039f\"],[0.2222222222222222,\"#7201a8\"],[0.3333333333333333,\"#9c179e\"],[0.4444444444444444,\"#bd3786\"],[0.5555555555555556,\"#d8576b\"],[0.6666666666666666,\"#ed7953\"],[0.7777777777777778,\"#fb9f3a\"],[0.8888888888888888,\"#fdca26\"],[1.0,\"#f0f921\"]],\"diverging\":[[0,\"#8e0152\"],[0.1,\"#c51b7d\"],[0.2,\"#de77ae\"],[0.3,\"#f1b6da\"],[0.4,\"#fde0ef\"],[0.5,\"#f7f7f7\"],[0.6,\"#e6f5d0\"],[0.7,\"#b8e186\"],[0.8,\"#7fbc41\"],[0.9,\"#4d9221\"],[1,\"#276419\"]]},\"xaxis\":{\"gridcolor\":\"white\",\"linecolor\":\"white\",\"ticks\":\"\",\"title\":{\"standoff\":15},\"zerolinecolor\":\"white\",\"automargin\":true,\"zerolinewidth\":2},\"yaxis\":{\"gridcolor\":\"white\",\"linecolor\":\"white\",\"ticks\":\"\",\"title\":{\"standoff\":15},\"zerolinecolor\":\"white\",\"automargin\":true,\"zerolinewidth\":2},\"scene\":{\"xaxis\":{\"backgroundcolor\":\"#E5ECF6\",\"gridcolor\":\"white\",\"linecolor\":\"white\",\"showbackground\":true,\"ticks\":\"\",\"zerolinecolor\":\"white\",\"gridwidth\":2},\"yaxis\":{\"backgroundcolor\":\"#E5ECF6\",\"gridcolor\":\"white\",\"linecolor\":\"white\",\"showbackground\":true,\"ticks\":\"\",\"zerolinecolor\":\"white\",\"gridwidth\":2},\"zaxis\":{\"backgroundcolor\":\"#E5ECF6\",\"gridcolor\":\"white\",\"linecolor\":\"white\",\"showbackground\":true,\"ticks\":\"\",\"zerolinecolor\":\"white\",\"gridwidth\":2}},\"shapedefaults\":{\"line\":{\"color\":\"#2a3f5f\"}},\"annotationdefaults\":{\"arrowcolor\":\"#2a3f5f\",\"arrowhead\":0,\"arrowwidth\":1},\"geo\":{\"bgcolor\":\"white\",\"landcolor\":\"#E5ECF6\",\"subunitcolor\":\"white\",\"showland\":true,\"showlakes\":true,\"lakecolor\":\"white\"},\"title\":{\"x\":0.05},\"mapbox\":{\"style\":\"light\"}}},\"xaxis\":{\"anchor\":\"y\",\"domain\":[0.0,1.0],\"title\":{\"text\":\"States\"}},\"yaxis\":{\"anchor\":\"x\",\"domain\":[0.0,1.0],\"title\":{\"text\":\"RegisteredUser\"}},\"legend\":{\"tracegroupgap\":0},\"title\":{\"text\":\"TOP 10 REGISTERED USER\"},\"barmode\":\"relative\",\"height\":500,\"width\":500},                        {\"responsive\": true}                    ).then(function(){\n",
       "                            \n",
       "var gd = document.getElementById('f075690d-191e-48ef-9c98-80e78b58acb5');\n",
       "var x = new MutationObserver(function (mutations, observer) {{\n",
       "        var display = window.getComputedStyle(gd).display;\n",
       "        if (!display || display === 'none') {{\n",
       "            console.log([gd, 'removed!']);\n",
       "            Plotly.purge(gd);\n",
       "            observer.disconnect();\n",
       "        }}\n",
       "}});\n",
       "\n",
       "// Listen for the removal of the full notebook cells\n",
       "var notebookContainer = gd.closest('#notebook-container');\n",
       "if (notebookContainer) {{\n",
       "    x.observe(notebookContainer, {childList: true});\n",
       "}}\n",
       "\n",
       "// Listen for the clearing of the current output cell\n",
       "var outputEl = gd.closest('.output');\n",
       "if (outputEl) {{\n",
       "    x.observe(outputEl, {childList: true});\n",
       "}}\n",
       "\n",
       "                        })                };                });            </script>        </div>"
      ]
     },
     "metadata": {},
     "output_type": "display_data"
    },
    {
     "data": {
      "application/vnd.plotly.v1+json": {
       "config": {
        "plotlyServerURL": "https://plot.ly"
       },
       "data": [
        {
         "alignmentgroup": "True",
         "hovertemplate": "<b>%{hovertext}</b><br><br>States=%{x}<br>RegisteredUser=%{y}<extra></extra>",
         "hovertext": [
          "Lakshadweep",
          "Andaman & Nicobar",
          "Mizoram",
          "Ladakh",
          "Meghalaya",
          "Nagaland",
          "Sikkim",
          "Arunachal Pradesh",
          "Manipur",
          "Tripura"
         ],
         "legendgroup": "",
         "marker": {
          "color": "rgb(252, 222, 156)",
          "pattern": {
           "shape": ""
          }
         },
         "name": "",
         "offsetgroup": "",
         "orientation": "v",
         "showlegend": false,
         "textposition": "auto",
         "type": "bar",
         "x": [
          "Lakshadweep",
          "Andaman & Nicobar",
          "Mizoram",
          "Ladakh",
          "Meghalaya",
          "Nagaland",
          "Sikkim",
          "Arunachal Pradesh",
          "Manipur",
          "Tripura"
         ],
         "xaxis": "x",
         "y": [
          93835,
          1018359,
          1145180,
          1387371,
          2011381,
          2626825,
          2702846,
          2959404,
          3195520,
          3415504
         ],
         "yaxis": "y"
        }
       ],
       "layout": {
        "barmode": "relative",
        "height": 500,
        "legend": {
         "tracegroupgap": 0
        },
        "template": {
         "data": {
          "bar": [
           {
            "error_x": {
             "color": "#2a3f5f"
            },
            "error_y": {
             "color": "#2a3f5f"
            },
            "marker": {
             "line": {
              "color": "#E5ECF6",
              "width": 0.5
             },
             "pattern": {
              "fillmode": "overlay",
              "size": 10,
              "solidity": 0.2
             }
            },
            "type": "bar"
           }
          ],
          "barpolar": [
           {
            "marker": {
             "line": {
              "color": "#E5ECF6",
              "width": 0.5
             },
             "pattern": {
              "fillmode": "overlay",
              "size": 10,
              "solidity": 0.2
             }
            },
            "type": "barpolar"
           }
          ],
          "carpet": [
           {
            "aaxis": {
             "endlinecolor": "#2a3f5f",
             "gridcolor": "white",
             "linecolor": "white",
             "minorgridcolor": "white",
             "startlinecolor": "#2a3f5f"
            },
            "baxis": {
             "endlinecolor": "#2a3f5f",
             "gridcolor": "white",
             "linecolor": "white",
             "minorgridcolor": "white",
             "startlinecolor": "#2a3f5f"
            },
            "type": "carpet"
           }
          ],
          "choropleth": [
           {
            "colorbar": {
             "outlinewidth": 0,
             "ticks": ""
            },
            "type": "choropleth"
           }
          ],
          "contour": [
           {
            "colorbar": {
             "outlinewidth": 0,
             "ticks": ""
            },
            "colorscale": [
             [
              0,
              "#0d0887"
             ],
             [
              0.1111111111111111,
              "#46039f"
             ],
             [
              0.2222222222222222,
              "#7201a8"
             ],
             [
              0.3333333333333333,
              "#9c179e"
             ],
             [
              0.4444444444444444,
              "#bd3786"
             ],
             [
              0.5555555555555556,
              "#d8576b"
             ],
             [
              0.6666666666666666,
              "#ed7953"
             ],
             [
              0.7777777777777778,
              "#fb9f3a"
             ],
             [
              0.8888888888888888,
              "#fdca26"
             ],
             [
              1,
              "#f0f921"
             ]
            ],
            "type": "contour"
           }
          ],
          "contourcarpet": [
           {
            "colorbar": {
             "outlinewidth": 0,
             "ticks": ""
            },
            "type": "contourcarpet"
           }
          ],
          "heatmap": [
           {
            "colorbar": {
             "outlinewidth": 0,
             "ticks": ""
            },
            "colorscale": [
             [
              0,
              "#0d0887"
             ],
             [
              0.1111111111111111,
              "#46039f"
             ],
             [
              0.2222222222222222,
              "#7201a8"
             ],
             [
              0.3333333333333333,
              "#9c179e"
             ],
             [
              0.4444444444444444,
              "#bd3786"
             ],
             [
              0.5555555555555556,
              "#d8576b"
             ],
             [
              0.6666666666666666,
              "#ed7953"
             ],
             [
              0.7777777777777778,
              "#fb9f3a"
             ],
             [
              0.8888888888888888,
              "#fdca26"
             ],
             [
              1,
              "#f0f921"
             ]
            ],
            "type": "heatmap"
           }
          ],
          "heatmapgl": [
           {
            "colorbar": {
             "outlinewidth": 0,
             "ticks": ""
            },
            "colorscale": [
             [
              0,
              "#0d0887"
             ],
             [
              0.1111111111111111,
              "#46039f"
             ],
             [
              0.2222222222222222,
              "#7201a8"
             ],
             [
              0.3333333333333333,
              "#9c179e"
             ],
             [
              0.4444444444444444,
              "#bd3786"
             ],
             [
              0.5555555555555556,
              "#d8576b"
             ],
             [
              0.6666666666666666,
              "#ed7953"
             ],
             [
              0.7777777777777778,
              "#fb9f3a"
             ],
             [
              0.8888888888888888,
              "#fdca26"
             ],
             [
              1,
              "#f0f921"
             ]
            ],
            "type": "heatmapgl"
           }
          ],
          "histogram": [
           {
            "marker": {
             "pattern": {
              "fillmode": "overlay",
              "size": 10,
              "solidity": 0.2
             }
            },
            "type": "histogram"
           }
          ],
          "histogram2d": [
           {
            "colorbar": {
             "outlinewidth": 0,
             "ticks": ""
            },
            "colorscale": [
             [
              0,
              "#0d0887"
             ],
             [
              0.1111111111111111,
              "#46039f"
             ],
             [
              0.2222222222222222,
              "#7201a8"
             ],
             [
              0.3333333333333333,
              "#9c179e"
             ],
             [
              0.4444444444444444,
              "#bd3786"
             ],
             [
              0.5555555555555556,
              "#d8576b"
             ],
             [
              0.6666666666666666,
              "#ed7953"
             ],
             [
              0.7777777777777778,
              "#fb9f3a"
             ],
             [
              0.8888888888888888,
              "#fdca26"
             ],
             [
              1,
              "#f0f921"
             ]
            ],
            "type": "histogram2d"
           }
          ],
          "histogram2dcontour": [
           {
            "colorbar": {
             "outlinewidth": 0,
             "ticks": ""
            },
            "colorscale": [
             [
              0,
              "#0d0887"
             ],
             [
              0.1111111111111111,
              "#46039f"
             ],
             [
              0.2222222222222222,
              "#7201a8"
             ],
             [
              0.3333333333333333,
              "#9c179e"
             ],
             [
              0.4444444444444444,
              "#bd3786"
             ],
             [
              0.5555555555555556,
              "#d8576b"
             ],
             [
              0.6666666666666666,
              "#ed7953"
             ],
             [
              0.7777777777777778,
              "#fb9f3a"
             ],
             [
              0.8888888888888888,
              "#fdca26"
             ],
             [
              1,
              "#f0f921"
             ]
            ],
            "type": "histogram2dcontour"
           }
          ],
          "mesh3d": [
           {
            "colorbar": {
             "outlinewidth": 0,
             "ticks": ""
            },
            "type": "mesh3d"
           }
          ],
          "parcoords": [
           {
            "line": {
             "colorbar": {
              "outlinewidth": 0,
              "ticks": ""
             }
            },
            "type": "parcoords"
           }
          ],
          "pie": [
           {
            "automargin": true,
            "type": "pie"
           }
          ],
          "scatter": [
           {
            "fillpattern": {
             "fillmode": "overlay",
             "size": 10,
             "solidity": 0.2
            },
            "type": "scatter"
           }
          ],
          "scatter3d": [
           {
            "line": {
             "colorbar": {
              "outlinewidth": 0,
              "ticks": ""
             }
            },
            "marker": {
             "colorbar": {
              "outlinewidth": 0,
              "ticks": ""
             }
            },
            "type": "scatter3d"
           }
          ],
          "scattercarpet": [
           {
            "marker": {
             "colorbar": {
              "outlinewidth": 0,
              "ticks": ""
             }
            },
            "type": "scattercarpet"
           }
          ],
          "scattergeo": [
           {
            "marker": {
             "colorbar": {
              "outlinewidth": 0,
              "ticks": ""
             }
            },
            "type": "scattergeo"
           }
          ],
          "scattergl": [
           {
            "marker": {
             "colorbar": {
              "outlinewidth": 0,
              "ticks": ""
             }
            },
            "type": "scattergl"
           }
          ],
          "scattermapbox": [
           {
            "marker": {
             "colorbar": {
              "outlinewidth": 0,
              "ticks": ""
             }
            },
            "type": "scattermapbox"
           }
          ],
          "scatterpolar": [
           {
            "marker": {
             "colorbar": {
              "outlinewidth": 0,
              "ticks": ""
             }
            },
            "type": "scatterpolar"
           }
          ],
          "scatterpolargl": [
           {
            "marker": {
             "colorbar": {
              "outlinewidth": 0,
              "ticks": ""
             }
            },
            "type": "scatterpolargl"
           }
          ],
          "scatterternary": [
           {
            "marker": {
             "colorbar": {
              "outlinewidth": 0,
              "ticks": ""
             }
            },
            "type": "scatterternary"
           }
          ],
          "surface": [
           {
            "colorbar": {
             "outlinewidth": 0,
             "ticks": ""
            },
            "colorscale": [
             [
              0,
              "#0d0887"
             ],
             [
              0.1111111111111111,
              "#46039f"
             ],
             [
              0.2222222222222222,
              "#7201a8"
             ],
             [
              0.3333333333333333,
              "#9c179e"
             ],
             [
              0.4444444444444444,
              "#bd3786"
             ],
             [
              0.5555555555555556,
              "#d8576b"
             ],
             [
              0.6666666666666666,
              "#ed7953"
             ],
             [
              0.7777777777777778,
              "#fb9f3a"
             ],
             [
              0.8888888888888888,
              "#fdca26"
             ],
             [
              1,
              "#f0f921"
             ]
            ],
            "type": "surface"
           }
          ],
          "table": [
           {
            "cells": {
             "fill": {
              "color": "#EBF0F8"
             },
             "line": {
              "color": "white"
             }
            },
            "header": {
             "fill": {
              "color": "#C8D4E3"
             },
             "line": {
              "color": "white"
             }
            },
            "type": "table"
           }
          ]
         },
         "layout": {
          "annotationdefaults": {
           "arrowcolor": "#2a3f5f",
           "arrowhead": 0,
           "arrowwidth": 1
          },
          "autotypenumbers": "strict",
          "coloraxis": {
           "colorbar": {
            "outlinewidth": 0,
            "ticks": ""
           }
          },
          "colorscale": {
           "diverging": [
            [
             0,
             "#8e0152"
            ],
            [
             0.1,
             "#c51b7d"
            ],
            [
             0.2,
             "#de77ae"
            ],
            [
             0.3,
             "#f1b6da"
            ],
            [
             0.4,
             "#fde0ef"
            ],
            [
             0.5,
             "#f7f7f7"
            ],
            [
             0.6,
             "#e6f5d0"
            ],
            [
             0.7,
             "#b8e186"
            ],
            [
             0.8,
             "#7fbc41"
            ],
            [
             0.9,
             "#4d9221"
            ],
            [
             1,
             "#276419"
            ]
           ],
           "sequential": [
            [
             0,
             "#0d0887"
            ],
            [
             0.1111111111111111,
             "#46039f"
            ],
            [
             0.2222222222222222,
             "#7201a8"
            ],
            [
             0.3333333333333333,
             "#9c179e"
            ],
            [
             0.4444444444444444,
             "#bd3786"
            ],
            [
             0.5555555555555556,
             "#d8576b"
            ],
            [
             0.6666666666666666,
             "#ed7953"
            ],
            [
             0.7777777777777778,
             "#fb9f3a"
            ],
            [
             0.8888888888888888,
             "#fdca26"
            ],
            [
             1,
             "#f0f921"
            ]
           ],
           "sequentialminus": [
            [
             0,
             "#0d0887"
            ],
            [
             0.1111111111111111,
             "#46039f"
            ],
            [
             0.2222222222222222,
             "#7201a8"
            ],
            [
             0.3333333333333333,
             "#9c179e"
            ],
            [
             0.4444444444444444,
             "#bd3786"
            ],
            [
             0.5555555555555556,
             "#d8576b"
            ],
            [
             0.6666666666666666,
             "#ed7953"
            ],
            [
             0.7777777777777778,
             "#fb9f3a"
            ],
            [
             0.8888888888888888,
             "#fdca26"
            ],
            [
             1,
             "#f0f921"
            ]
           ]
          },
          "colorway": [
           "#636efa",
           "#EF553B",
           "#00cc96",
           "#ab63fa",
           "#FFA15A",
           "#19d3f3",
           "#FF6692",
           "#B6E880",
           "#FF97FF",
           "#FECB52"
          ],
          "font": {
           "color": "#2a3f5f"
          },
          "geo": {
           "bgcolor": "white",
           "lakecolor": "white",
           "landcolor": "#E5ECF6",
           "showlakes": true,
           "showland": true,
           "subunitcolor": "white"
          },
          "hoverlabel": {
           "align": "left"
          },
          "hovermode": "closest",
          "mapbox": {
           "style": "light"
          },
          "paper_bgcolor": "white",
          "plot_bgcolor": "#E5ECF6",
          "polar": {
           "angularaxis": {
            "gridcolor": "white",
            "linecolor": "white",
            "ticks": ""
           },
           "bgcolor": "#E5ECF6",
           "radialaxis": {
            "gridcolor": "white",
            "linecolor": "white",
            "ticks": ""
           }
          },
          "scene": {
           "xaxis": {
            "backgroundcolor": "#E5ECF6",
            "gridcolor": "white",
            "gridwidth": 2,
            "linecolor": "white",
            "showbackground": true,
            "ticks": "",
            "zerolinecolor": "white"
           },
           "yaxis": {
            "backgroundcolor": "#E5ECF6",
            "gridcolor": "white",
            "gridwidth": 2,
            "linecolor": "white",
            "showbackground": true,
            "ticks": "",
            "zerolinecolor": "white"
           },
           "zaxis": {
            "backgroundcolor": "#E5ECF6",
            "gridcolor": "white",
            "gridwidth": 2,
            "linecolor": "white",
            "showbackground": true,
            "ticks": "",
            "zerolinecolor": "white"
           }
          },
          "shapedefaults": {
           "line": {
            "color": "#2a3f5f"
           }
          },
          "ternary": {
           "aaxis": {
            "gridcolor": "white",
            "linecolor": "white",
            "ticks": ""
           },
           "baxis": {
            "gridcolor": "white",
            "linecolor": "white",
            "ticks": ""
           },
           "bgcolor": "#E5ECF6",
           "caxis": {
            "gridcolor": "white",
            "linecolor": "white",
            "ticks": ""
           }
          },
          "title": {
           "x": 0.05
          },
          "xaxis": {
           "automargin": true,
           "gridcolor": "white",
           "linecolor": "white",
           "ticks": "",
           "title": {
            "standoff": 15
           },
           "zerolinecolor": "white",
           "zerolinewidth": 2
          },
          "yaxis": {
           "automargin": true,
           "gridcolor": "white",
           "linecolor": "white",
           "ticks": "",
           "title": {
            "standoff": 15
           },
           "zerolinecolor": "white",
           "zerolinewidth": 2
          }
         }
        },
        "title": {
         "text": "LEAST 10 REGISTERED USER"
        },
        "width": 500,
        "xaxis": {
         "anchor": "y",
         "autorange": true,
         "domain": [
          0,
          1
         ],
         "range": [
          -0.5,
          9.5
         ],
         "title": {
          "text": "States"
         },
         "type": "category"
        },
        "yaxis": {
         "anchor": "x",
         "autorange": true,
         "domain": [
          0,
          1
         ],
         "range": [
          0,
          3595267.3684210526
         ],
         "title": {
          "text": "RegisteredUser"
         },
         "type": "linear"
        }
       }
      },
      "image/png": "[encoded data removed]",
      "text/html": [
       "<div>                            <div id=\"e69da251-46b5-41c9-bc0b-9778e00fbbc6\" class=\"plotly-graph-div\" style=\"height:500px; width:500px;\"></div>            <script type=\"text/javascript\">                require([\"plotly\"], function(Plotly) {                    window.PLOTLYENV=window.PLOTLYENV || {};                                    if (document.getElementById(\"e69da251-46b5-41c9-bc0b-9778e00fbbc6\")) {                    Plotly.newPlot(                        \"e69da251-46b5-41c9-bc0b-9778e00fbbc6\",                        [{\"alignmentgroup\":\"True\",\"hovertemplate\":\"\\u003cb\\u003e%{hovertext}\\u003c\\u002fb\\u003e\\u003cbr\\u003e\\u003cbr\\u003eStates=%{x}\\u003cbr\\u003eRegisteredUser=%{y}\\u003cextra\\u003e\\u003c\\u002fextra\\u003e\",\"hovertext\":[\"Lakshadweep\",\"Andaman & Nicobar\",\"Mizoram\",\"Ladakh\",\"Meghalaya\",\"Nagaland\",\"Sikkim\",\"Arunachal Pradesh\",\"Manipur\",\"Tripura\"],\"legendgroup\":\"\",\"marker\":{\"color\":\"rgb(252, 222, 156)\",\"pattern\":{\"shape\":\"\"}},\"name\":\"\",\"offsetgroup\":\"\",\"orientation\":\"v\",\"showlegend\":false,\"textposition\":\"auto\",\"x\":[\"Lakshadweep\",\"Andaman & Nicobar\",\"Mizoram\",\"Ladakh\",\"Meghalaya\",\"Nagaland\",\"Sikkim\",\"Arunachal Pradesh\",\"Manipur\",\"Tripura\"],\"xaxis\":\"x\",\"y\":[93835.0,1018359.0,1145180.0,1387371.0,2011381.0,2626825.0,2702846.0,2959404.0,3195520.0,3415504.0],\"yaxis\":\"y\",\"type\":\"bar\"}],                        {\"template\":{\"data\":{\"histogram2dcontour\":[{\"type\":\"histogram2dcontour\",\"colorbar\":{\"outlinewidth\":0,\"ticks\":\"\"},\"colorscale\":[[0.0,\"#0d0887\"],[0.1111111111111111,\"#46039f\"],[0.2222222222222222,\"#7201a8\"],[0.3333333333333333,\"#9c179e\"],[0.4444444444444444,\"#bd3786\"],[0.5555555555555556,\"#d8576b\"],[0.6666666666666666,\"#ed7953\"],[0.7777777777777778,\"#fb9f3a\"],[0.8888888888888888,\"#fdca26\"],[1.0,\"#f0f921\"]]}],\"choropleth\":[{\"type\":\"choropleth\",\"colorbar\":{\"outlinewidth\":0,\"ticks\":\"\"}}],\"histogram2d\":[{\"type\":\"histogram2d\",\"colorbar\":{\"outlinewidth\":0,\"ticks\":\"\"},\"colorscale\":[[0.0,\"#0d0887\"],[0.1111111111111111,\"#46039f\"],[0.2222222222222222,\"#7201a8\"],[0.3333333333333333,\"#9c179e\"],[0.4444444444444444,\"#bd3786\"],[0.5555555555555556,\"#d8576b\"],[0.6666666666666666,\"#ed7953\"],[0.7777777777777778,\"#fb9f3a\"],[0.8888888888888888,\"#fdca26\"],[1.0,\"#f0f921\"]]}],\"heatmap\":[{\"type\":\"heatmap\",\"colorbar\":{\"outlinewidth\":0,\"ticks\":\"\"},\"colorscale\":[[0.0,\"#0d0887\"],[0.1111111111111111,\"#46039f\"],[0.2222222222222222,\"#7201a8\"],[0.3333333333333333,\"#9c179e\"],[0.4444444444444444,\"#bd3786\"],[0.5555555555555556,\"#d8576b\"],[0.6666666666666666,\"#ed7953\"],[0.7777777777777778,\"#fb9f3a\"],[0.8888888888888888,\"#fdca26\"],[1.0,\"#f0f921\"]]}],\"heatmapgl\":[{\"type\":\"heatmapgl\",\"colorbar\":{\"outlinewidth\":0,\"ticks\":\"\"},\"colorscale\":[[0.0,\"#0d0887\"],[0.1111111111111111,\"#46039f\"],[0.2222222222222222,\"#7201a8\"],[0.3333333333333333,\"#9c179e\"],[0.4444444444444444,\"#bd3786\"],[0.5555555555555556,\"#d8576b\"],[0.6666666666666666,\"#ed7953\"],[0.7777777777777778,\"#fb9f3a\"],[0.8888888888888888,\"#fdca26\"],[1.0,\"#f0f921\"]]}],\"contourcarpet\":[{\"type\":\"contourcarpet\",\"colorbar\":{\"outlinewidth\":0,\"ticks\":\"\"}}],\"contour\":[{\"type\":\"contour\",\"colorbar\":{\"outlinewidth\":0,\"ticks\":\"\"},\"colorscale\":[[0.0,\"#0d0887\"],[0.1111111111111111,\"#46039f\"],[0.2222222222222222,\"#7201a8\"],[0.3333333333333333,\"#9c179e\"],[0.4444444444444444,\"#bd3786\"],[0.5555555555555556,\"#d8576b\"],[0.6666666666666666,\"#ed7953\"],[0.7777777777777778,\"#fb9f3a\"],[0.8888888888888888,\"#fdca26\"],[1.0,\"#f0f921\"]]}],\"surface\":[{\"type\":\"surface\",\"colorbar\":{\"outlinewidth\":0,\"ticks\":\"\"},\"colorscale\":[[0.0,\"#0d0887\"],[0.1111111111111111,\"#46039f\"],[0.2222222222222222,\"#7201a8\"],[0.3333333333333333,\"#9c179e\"],[0.4444444444444444,\"#bd3786\"],[0.5555555555555556,\"#d8576b\"],[0.6666666666666666,\"#ed7953\"],[0.7777777777777778,\"#fb9f3a\"],[0.8888888888888888,\"#fdca26\"],[1.0,\"#f0f921\"]]}],\"mesh3d\":[{\"type\":\"mesh3d\",\"colorbar\":{\"outlinewidth\":0,\"ticks\":\"\"}}],\"scatter\":[{\"fillpattern\":{\"fillmode\":\"overlay\",\"size\":10,\"solidity\":0.2},\"type\":\"scatter\"}],\"parcoords\":[{\"type\":\"parcoords\",\"line\":{\"colorbar\":{\"outlinewidth\":0,\"ticks\":\"\"}}}],\"scatterpolargl\":[{\"type\":\"scatterpolargl\",\"marker\":{\"colorbar\":{\"outlinewidth\":0,\"ticks\":\"\"}}}],\"bar\":[{\"error_x\":{\"color\":\"#2a3f5f\"},\"error_y\":{\"color\":\"#2a3f5f\"},\"marker\":{\"line\":{\"color\":\"#E5ECF6\",\"width\":0.5},\"pattern\":{\"fillmode\":\"overlay\",\"size\":10,\"solidity\":0.2}},\"type\":\"bar\"}],\"scattergeo\":[{\"type\":\"scattergeo\",\"marker\":{\"colorbar\":{\"outlinewidth\":0,\"ticks\":\"\"}}}],\"scatterpolar\":[{\"type\":\"scatterpolar\",\"marker\":{\"colorbar\":{\"outlinewidth\":0,\"ticks\":\"\"}}}],\"histogram\":[{\"marker\":{\"pattern\":{\"fillmode\":\"overlay\",\"size\":10,\"solidity\":0.2}},\"type\":\"histogram\"}],\"scattergl\":[{\"type\":\"scattergl\",\"marker\":{\"colorbar\":{\"outlinewidth\":0,\"ticks\":\"\"}}}],\"scatter3d\":[{\"type\":\"scatter3d\",\"line\":{\"colorbar\":{\"outlinewidth\":0,\"ticks\":\"\"}},\"marker\":{\"colorbar\":{\"outlinewidth\":0,\"ticks\":\"\"}}}],\"scattermapbox\":[{\"type\":\"scattermapbox\",\"marker\":{\"colorbar\":{\"outlinewidth\":0,\"ticks\":\"\"}}}],\"scatterternary\":[{\"type\":\"scatterternary\",\"marker\":{\"colorbar\":{\"outlinewidth\":0,\"ticks\":\"\"}}}],\"scattercarpet\":[{\"type\":\"scattercarpet\",\"marker\":{\"colorbar\":{\"outlinewidth\":0,\"ticks\":\"\"}}}],\"carpet\":[{\"aaxis\":{\"endlinecolor\":\"#2a3f5f\",\"gridcolor\":\"white\",\"linecolor\":\"white\",\"minorgridcolor\":\"white\",\"startlinecolor\":\"#2a3f5f\"},\"baxis\":{\"endlinecolor\":\"#2a3f5f\",\"gridcolor\":\"white\",\"linecolor\":\"white\",\"minorgridcolor\":\"white\",\"startlinecolor\":\"#2a3f5f\"},\"type\":\"carpet\"}],\"table\":[{\"cells\":{\"fill\":{\"color\":\"#EBF0F8\"},\"line\":{\"color\":\"white\"}},\"header\":{\"fill\":{\"color\":\"#C8D4E3\"},\"line\":{\"color\":\"white\"}},\"type\":\"table\"}],\"barpolar\":[{\"marker\":{\"line\":{\"color\":\"#E5ECF6\",\"width\":0.5},\"pattern\":{\"fillmode\":\"overlay\",\"size\":10,\"solidity\":0.2}},\"type\":\"barpolar\"}],\"pie\":[{\"automargin\":true,\"type\":\"pie\"}]},\"layout\":{\"autotypenumbers\":\"strict\",\"colorway\":[\"#636efa\",\"#EF553B\",\"#00cc96\",\"#ab63fa\",\"#FFA15A\",\"#19d3f3\",\"#FF6692\",\"#B6E880\",\"#FF97FF\",\"#FECB52\"],\"font\":{\"color\":\"#2a3f5f\"},\"hovermode\":\"closest\",\"hoverlabel\":{\"align\":\"left\"},\"paper_bgcolor\":\"white\",\"plot_bgcolor\":\"#E5ECF6\",\"polar\":{\"bgcolor\":\"#E5ECF6\",\"angularaxis\":{\"gridcolor\":\"white\",\"linecolor\":\"white\",\"ticks\":\"\"},\"radialaxis\":{\"gridcolor\":\"white\",\"linecolor\":\"white\",\"ticks\":\"\"}},\"ternary\":{\"bgcolor\":\"#E5ECF6\",\"aaxis\":{\"gridcolor\":\"white\",\"linecolor\":\"white\",\"ticks\":\"\"},\"baxis\":{\"gridcolor\":\"white\",\"linecolor\":\"white\",\"ticks\":\"\"},\"caxis\":{\"gridcolor\":\"white\",\"linecolor\":\"white\",\"ticks\":\"\"}},\"coloraxis\":{\"colorbar\":{\"outlinewidth\":0,\"ticks\":\"\"}},\"colorscale\":{\"sequential\":[[0.0,\"#0d0887\"],[0.1111111111111111,\"#46039f\"],[0.2222222222222222,\"#7201a8\"],[0.3333333333333333,\"#9c179e\"],[0.4444444444444444,\"#bd3786\"],[0.5555555555555556,\"#d8576b\"],[0.6666666666666666,\"#ed7953\"],[0.7777777777777778,\"#fb9f3a\"],[0.8888888888888888,\"#fdca26\"],[1.0,\"#f0f921\"]],\"sequentialminus\":[[0.0,\"#0d0887\"],[0.1111111111111111,\"#46039f\"],[0.2222222222222222,\"#7201a8\"],[0.3333333333333333,\"#9c179e\"],[0.4444444444444444,\"#bd3786\"],[0.5555555555555556,\"#d8576b\"],[0.6666666666666666,\"#ed7953\"],[0.7777777777777778,\"#fb9f3a\"],[0.8888888888888888,\"#fdca26\"],[1.0,\"#f0f921\"]],\"diverging\":[[0,\"#8e0152\"],[0.1,\"#c51b7d\"],[0.2,\"#de77ae\"],[0.3,\"#f1b6da\"],[0.4,\"#fde0ef\"],[0.5,\"#f7f7f7\"],[0.6,\"#e6f5d0\"],[0.7,\"#b8e186\"],[0.8,\"#7fbc41\"],[0.9,\"#4d9221\"],[1,\"#276419\"]]},\"xaxis\":{\"gridcolor\":\"white\",\"linecolor\":\"white\",\"ticks\":\"\",\"title\":{\"standoff\":15},\"zerolinecolor\":\"white\",\"automargin\":true,\"zerolinewidth\":2},\"yaxis\":{\"gridcolor\":\"white\",\"linecolor\":\"white\",\"ticks\":\"\",\"title\":{\"standoff\":15},\"zerolinecolor\":\"white\",\"automargin\":true,\"zerolinewidth\":2},\"scene\":{\"xaxis\":{\"backgroundcolor\":\"#E5ECF6\",\"gridcolor\":\"white\",\"linecolor\":\"white\",\"showbackground\":true,\"ticks\":\"\",\"zerolinecolor\":\"white\",\"gridwidth\":2},\"yaxis\":{\"backgroundcolor\":\"#E5ECF6\",\"gridcolor\":\"white\",\"linecolor\":\"white\",\"showbackground\":true,\"ticks\":\"\",\"zerolinecolor\":\"white\",\"gridwidth\":2},\"zaxis\":{\"backgroundcolor\":\"#E5ECF6\",\"gridcolor\":\"white\",\"linecolor\":\"white\",\"showbackground\":true,\"ticks\":\"\",\"zerolinecolor\":\"white\",\"gridwidth\":2}},\"shapedefaults\":{\"line\":{\"color\":\"#2a3f5f\"}},\"annotationdefaults\":{\"arrowcolor\":\"#2a3f5f\",\"arrowhead\":0,\"arrowwidth\":1},\"geo\":{\"bgcolor\":\"white\",\"landcolor\":\"#E5ECF6\",\"subunitcolor\":\"white\",\"showland\":true,\"showlakes\":true,\"lakecolor\":\"white\"},\"title\":{\"x\":0.05},\"mapbox\":{\"style\":\"light\"}}},\"xaxis\":{\"anchor\":\"y\",\"domain\":[0.0,1.0],\"title\":{\"text\":\"States\"}},\"yaxis\":{\"anchor\":\"x\",\"domain\":[0.0,1.0],\"title\":{\"text\":\"RegisteredUser\"}},\"legend\":{\"tracegroupgap\":0},\"title\":{\"text\":\"LEAST 10 REGISTERED USER\"},\"barmode\":\"relative\",\"height\":500,\"width\":500},                        {\"responsive\": true}                    ).then(function(){\n",
       "                            \n",
       "var gd = document.getElementById('e69da251-46b5-41c9-bc0b-9778e00fbbc6');\n",
       "var x = new MutationObserver(function (mutations, observer) {{\n",
       "        var display = window.getComputedStyle(gd).display;\n",
       "        if (!display || display === 'none') {{\n",
       "            console.log([gd, 'removed!']);\n",
       "            Plotly.purge(gd);\n",
       "            observer.disconnect();\n",
       "        }}\n",
       "}});\n",
       "\n",
       "// Listen for the removal of the full notebook cells\n",
       "var notebookContainer = gd.closest('#notebook-container');\n",
       "if (notebookContainer) {{\n",
       "    x.observe(notebookContainer, {childList: true});\n",
       "}}\n",
       "\n",
       "// Listen for the clearing of the current output cell\n",
       "var outputEl = gd.closest('.output');\n",
       "if (outputEl) {{\n",
       "    x.observe(outputEl, {childList: true});\n",
       "}}\n",
       "\n",
       "                        })                };                });            </script>        </div>"
      ]
     },
     "metadata": {},
     "output_type": "display_data"
    },
    {
     "data": {
      "application/vnd.plotly.v1+json": {
       "config": {
        "plotlyServerURL": "https://plot.ly"
       },
       "data": [
        {
         "alignmentgroup": "True",
         "hovertemplate": "<b>%{hovertext}</b><br><br>RegisteredUser=%{x}<br>States=%{y}<extra></extra>",
         "hovertext": [
          "Lakshadweep",
          "Andaman & Nicobar",
          "Mizoram",
          "Ladakh",
          "Meghalaya",
          "Nagaland",
          "Sikkim",
          "Arunachal Pradesh",
          "Manipur",
          "Tripura",
          "Jammu & Kashmir",
          "Puducherry",
          "Goa",
          "Kerala",
          "Assam",
          "Chandigarh",
          "Dadra and Nagar Haveli and Daman and Diu",
          "Himachal Pradesh",
          "Odisha",
          "West Bengal",
          "Jharkhand",
          "Chhattisgarh",
          "Tamil Nadu",
          "Uttarakhand",
          "Punjab",
          "Andhra Pradesh",
          "Bihar",
          "Madhya Pradesh",
          "Gujarat",
          "Rajasthan",
          "Telangana",
          "Haryana",
          "Maharashtra",
          "Uttar Pradesh",
          "Karnataka",
          "Delhi"
         ],
         "legendgroup": "",
         "marker": {
          "color": "rgb(243, 203, 211)",
          "pattern": {
           "shape": ""
          }
         },
         "name": "",
         "offsetgroup": "",
         "orientation": "h",
         "showlegend": false,
         "textposition": "auto",
         "type": "bar",
         "x": [
          509.9728,
          4427.6478,
          4979.0435,
          6032.0478,
          8745.1348,
          11420.9783,
          11751.5043,
          12866.9739,
          13893.5652,
          14850.0174,
          18876.5261,
          20948.7391,
          22383.8087,
          25787.1043,
          29041.5348,
          30460.4609,
          33625.5217,
          35737.7261,
          72487.0043,
          74175.3739,
          84681.8478,
          91229.213,
          93115.7304,
          96886.387,
          105721.4391,
          133219.7304,
          135648.2522,
          147110.3043,
          154280.7391,
          187124.7261,
          204146.8,
          212467.613,
          247476.6391,
          247497.9522,
          259034.0478,
          278474.1565
         ],
         "xaxis": "x",
         "y": [
          "Lakshadweep",
          "Andaman & Nicobar",
          "Mizoram",
          "Ladakh",
          "Meghalaya",
          "Nagaland",
          "Sikkim",
          "Arunachal Pradesh",
          "Manipur",
          "Tripura",
          "Jammu & Kashmir",
          "Puducherry",
          "Goa",
          "Kerala",
          "Assam",
          "Chandigarh",
          "Dadra and Nagar Haveli and Daman and Diu",
          "Himachal Pradesh",
          "Odisha",
          "West Bengal",
          "Jharkhand",
          "Chhattisgarh",
          "Tamil Nadu",
          "Uttarakhand",
          "Punjab",
          "Andhra Pradesh",
          "Bihar",
          "Madhya Pradesh",
          "Gujarat",
          "Rajasthan",
          "Telangana",
          "Haryana",
          "Maharashtra",
          "Uttar Pradesh",
          "Karnataka",
          "Delhi"
         ],
         "yaxis": "y"
        }
       ],
       "layout": {
        "barmode": "relative",
        "height": 500,
        "legend": {
         "tracegroupgap": 0
        },
        "template": {
         "data": {
          "bar": [
           {
            "error_x": {
             "color": "#2a3f5f"
            },
            "error_y": {
             "color": "#2a3f5f"
            },
            "marker": {
             "line": {
              "color": "#E5ECF6",
              "width": 0.5
             },
             "pattern": {
              "fillmode": "overlay",
              "size": 10,
              "solidity": 0.2
             }
            },
            "type": "bar"
           }
          ],
          "barpolar": [
           {
            "marker": {
             "line": {
              "color": "#E5ECF6",
              "width": 0.5
             },
             "pattern": {
              "fillmode": "overlay",
              "size": 10,
              "solidity": 0.2
             }
            },
            "type": "barpolar"
           }
          ],
          "carpet": [
           {
            "aaxis": {
             "endlinecolor": "#2a3f5f",
             "gridcolor": "white",
             "linecolor": "white",
             "minorgridcolor": "white",
             "startlinecolor": "#2a3f5f"
            },
            "baxis": {
             "endlinecolor": "#2a3f5f",
             "gridcolor": "white",
             "linecolor": "white",
             "minorgridcolor": "white",
             "startlinecolor": "#2a3f5f"
            },
            "type": "carpet"
           }
          ],
          "choropleth": [
           {
            "colorbar": {
             "outlinewidth": 0,
             "ticks": ""
            },
            "type": "choropleth"
           }
          ],
          "contour": [
           {
            "colorbar": {
             "outlinewidth": 0,
             "ticks": ""
            },
            "colorscale": [
             [
              0,
              "#0d0887"
             ],
             [
              0.1111111111111111,
              "#46039f"
             ],
             [
              0.2222222222222222,
              "#7201a8"
             ],
             [
              0.3333333333333333,
              "#9c179e"
             ],
             [
              0.4444444444444444,
              "#bd3786"
             ],
             [
              0.5555555555555556,
              "#d8576b"
             ],
             [
              0.6666666666666666,
              "#ed7953"
             ],
             [
              0.7777777777777778,
              "#fb9f3a"
             ],
             [
              0.8888888888888888,
              "#fdca26"
             ],
             [
              1,
              "#f0f921"
             ]
            ],
            "type": "contour"
           }
          ],
          "contourcarpet": [
           {
            "colorbar": {
             "outlinewidth": 0,
             "ticks": ""
            },
            "type": "contourcarpet"
           }
          ],
          "heatmap": [
           {
            "colorbar": {
             "outlinewidth": 0,
             "ticks": ""
            },
            "colorscale": [
             [
              0,
              "#0d0887"
             ],
             [
              0.1111111111111111,
              "#46039f"
             ],
             [
              0.2222222222222222,
              "#7201a8"
             ],
             [
              0.3333333333333333,
              "#9c179e"
             ],
             [
              0.4444444444444444,
              "#bd3786"
             ],
             [
              0.5555555555555556,
              "#d8576b"
             ],
             [
              0.6666666666666666,
              "#ed7953"
             ],
             [
              0.7777777777777778,
              "#fb9f3a"
             ],
             [
              0.8888888888888888,
              "#fdca26"
             ],
             [
              1,
              "#f0f921"
             ]
            ],
            "type": "heatmap"
           }
          ],
          "heatmapgl": [
           {
            "colorbar": {
             "outlinewidth": 0,
             "ticks": ""
            },
            "colorscale": [
             [
              0,
              "#0d0887"
             ],
             [
              0.1111111111111111,
              "#46039f"
             ],
             [
              0.2222222222222222,
              "#7201a8"
             ],
             [
              0.3333333333333333,
              "#9c179e"
             ],
             [
              0.4444444444444444,
              "#bd3786"
             ],
             [
              0.5555555555555556,
              "#d8576b"
             ],
             [
              0.6666666666666666,
              "#ed7953"
             ],
             [
              0.7777777777777778,
              "#fb9f3a"
             ],
             [
              0.8888888888888888,
              "#fdca26"
             ],
             [
              1,
              "#f0f921"
             ]
            ],
            "type": "heatmapgl"
           }
          ],
          "histogram": [
           {
            "marker": {
             "pattern": {
              "fillmode": "overlay",
              "size": 10,
              "solidity": 0.2
             }
            },
            "type": "histogram"
           }
          ],
          "histogram2d": [
           {
            "colorbar": {
             "outlinewidth": 0,
             "ticks": ""
            },
            "colorscale": [
             [
              0,
              "#0d0887"
             ],
             [
              0.1111111111111111,
              "#46039f"
             ],
             [
              0.2222222222222222,
              "#7201a8"
             ],
             [
              0.3333333333333333,
              "#9c179e"
             ],
             [
              0.4444444444444444,
              "#bd3786"
             ],
             [
              0.5555555555555556,
              "#d8576b"
             ],
             [
              0.6666666666666666,
              "#ed7953"
             ],
             [
              0.7777777777777778,
              "#fb9f3a"
             ],
             [
              0.8888888888888888,
              "#fdca26"
             ],
             [
              1,
              "#f0f921"
             ]
            ],
            "type": "histogram2d"
           }
          ],
          "histogram2dcontour": [
           {
            "colorbar": {
             "outlinewidth": 0,
             "ticks": ""
            },
            "colorscale": [
             [
              0,
              "#0d0887"
             ],
             [
              0.1111111111111111,
              "#46039f"
             ],
             [
              0.2222222222222222,
              "#7201a8"
             ],
             [
              0.3333333333333333,
              "#9c179e"
             ],
             [
              0.4444444444444444,
              "#bd3786"
             ],
             [
              0.5555555555555556,
              "#d8576b"
             ],
             [
              0.6666666666666666,
              "#ed7953"
             ],
             [
              0.7777777777777778,
              "#fb9f3a"
             ],
             [
              0.8888888888888888,
              "#fdca26"
             ],
             [
              1,
              "#f0f921"
             ]
            ],
            "type": "histogram2dcontour"
           }
          ],
          "mesh3d": [
           {
            "colorbar": {
             "outlinewidth": 0,
             "ticks": ""
            },
            "type": "mesh3d"
           }
          ],
          "parcoords": [
           {
            "line": {
             "colorbar": {
              "outlinewidth": 0,
              "ticks": ""
             }
            },
            "type": "parcoords"
           }
          ],
          "pie": [
           {
            "automargin": true,
            "type": "pie"
           }
          ],
          "scatter": [
           {
            "fillpattern": {
             "fillmode": "overlay",
             "size": 10,
             "solidity": 0.2
            },
            "type": "scatter"
           }
          ],
          "scatter3d": [
           {
            "line": {
             "colorbar": {
              "outlinewidth": 0,
              "ticks": ""
             }
            },
            "marker": {
             "colorbar": {
              "outlinewidth": 0,
              "ticks": ""
             }
            },
            "type": "scatter3d"
           }
          ],
          "scattercarpet": [
           {
            "marker": {
             "colorbar": {
              "outlinewidth": 0,
              "ticks": ""
             }
            },
            "type": "scattercarpet"
           }
          ],
          "scattergeo": [
           {
            "marker": {
             "colorbar": {
              "outlinewidth": 0,
              "ticks": ""
             }
            },
            "type": "scattergeo"
           }
          ],
          "scattergl": [
           {
            "marker": {
             "colorbar": {
              "outlinewidth": 0,
              "ticks": ""
             }
            },
            "type": "scattergl"
           }
          ],
          "scattermapbox": [
           {
            "marker": {
             "colorbar": {
              "outlinewidth": 0,
              "ticks": ""
             }
            },
            "type": "scattermapbox"
           }
          ],
          "scatterpolar": [
           {
            "marker": {
             "colorbar": {
              "outlinewidth": 0,
              "ticks": ""
             }
            },
            "type": "scatterpolar"
           }
          ],
          "scatterpolargl": [
           {
            "marker": {
             "colorbar": {
              "outlinewidth": 0,
              "ticks": ""
             }
            },
            "type": "scatterpolargl"
           }
          ],
          "scatterternary": [
           {
            "marker": {
             "colorbar": {
              "outlinewidth": 0,
              "ticks": ""
             }
            },
            "type": "scatterternary"
           }
          ],
          "surface": [
           {
            "colorbar": {
             "outlinewidth": 0,
             "ticks": ""
            },
            "colorscale": [
             [
              0,
              "#0d0887"
             ],
             [
              0.1111111111111111,
              "#46039f"
             ],
             [
              0.2222222222222222,
              "#7201a8"
             ],
             [
              0.3333333333333333,
              "#9c179e"
             ],
             [
              0.4444444444444444,
              "#bd3786"
             ],
             [
              0.5555555555555556,
              "#d8576b"
             ],
             [
              0.6666666666666666,
              "#ed7953"
             ],
             [
              0.7777777777777778,
              "#fb9f3a"
             ],
             [
              0.8888888888888888,
              "#fdca26"
             ],
             [
              1,
              "#f0f921"
             ]
            ],
            "type": "surface"
           }
          ],
          "table": [
           {
            "cells": {
             "fill": {
              "color": "#EBF0F8"
             },
             "line": {
              "color": "white"
             }
            },
            "header": {
             "fill": {
              "color": "#C8D4E3"
             },
             "line": {
              "color": "white"
             }
            },
            "type": "table"
           }
          ]
         },
         "layout": {
          "annotationdefaults": {
           "arrowcolor": "#2a3f5f",
           "arrowhead": 0,
           "arrowwidth": 1
          },
          "autotypenumbers": "strict",
          "coloraxis": {
           "colorbar": {
            "outlinewidth": 0,
            "ticks": ""
           }
          },
          "colorscale": {
           "diverging": [
            [
             0,
             "#8e0152"
            ],
            [
             0.1,
             "#c51b7d"
            ],
            [
             0.2,
             "#de77ae"
            ],
            [
             0.3,
             "#f1b6da"
            ],
            [
             0.4,
             "#fde0ef"
            ],
            [
             0.5,
             "#f7f7f7"
            ],
            [
             0.6,
             "#e6f5d0"
            ],
            [
             0.7,
             "#b8e186"
            ],
            [
             0.8,
             "#7fbc41"
            ],
            [
             0.9,
             "#4d9221"
            ],
            [
             1,
             "#276419"
            ]
           ],
           "sequential": [
            [
             0,
             "#0d0887"
            ],
            [
             0.1111111111111111,
             "#46039f"
            ],
            [
             0.2222222222222222,
             "#7201a8"
            ],
            [
             0.3333333333333333,
             "#9c179e"
            ],
            [
             0.4444444444444444,
             "#bd3786"
            ],
            [
             0.5555555555555556,
             "#d8576b"
            ],
            [
             0.6666666666666666,
             "#ed7953"
            ],
            [
             0.7777777777777778,
             "#fb9f3a"
            ],
            [
             0.8888888888888888,
             "#fdca26"
            ],
            [
             1,
             "#f0f921"
            ]
           ],
           "sequentialminus": [
            [
             0,
             "#0d0887"
            ],
            [
             0.1111111111111111,
             "#46039f"
            ],
            [
             0.2222222222222222,
             "#7201a8"
            ],
            [
             0.3333333333333333,
             "#9c179e"
            ],
            [
             0.4444444444444444,
             "#bd3786"
            ],
            [
             0.5555555555555556,
             "#d8576b"
            ],
            [
             0.6666666666666666,
             "#ed7953"
            ],
            [
             0.7777777777777778,
             "#fb9f3a"
            ],
            [
             0.8888888888888888,
             "#fdca26"
            ],
            [
             1,
             "#f0f921"
            ]
           ]
          },
          "colorway": [
           "#636efa",
           "#EF553B",
           "#00cc96",
           "#ab63fa",
           "#FFA15A",
           "#19d3f3",
           "#FF6692",
           "#B6E880",
           "#FF97FF",
           "#FECB52"
          ],
          "font": {
           "color": "#2a3f5f"
          },
          "geo": {
           "bgcolor": "white",
           "lakecolor": "white",
           "landcolor": "#E5ECF6",
           "showlakes": true,
           "showland": true,
           "subunitcolor": "white"
          },
          "hoverlabel": {
           "align": "left"
          },
          "hovermode": "closest",
          "mapbox": {
           "style": "light"
          },
          "paper_bgcolor": "white",
          "plot_bgcolor": "#E5ECF6",
          "polar": {
           "angularaxis": {
            "gridcolor": "white",
            "linecolor": "white",
            "ticks": ""
           },
           "bgcolor": "#E5ECF6",
           "radialaxis": {
            "gridcolor": "white",
            "linecolor": "white",
            "ticks": ""
           }
          },
          "scene": {
           "xaxis": {
            "backgroundcolor": "#E5ECF6",
            "gridcolor": "white",
            "gridwidth": 2,
            "linecolor": "white",
            "showbackground": true,
            "ticks": "",
            "zerolinecolor": "white"
           },
           "yaxis": {
            "backgroundcolor": "#E5ECF6",
            "gridcolor": "white",
            "gridwidth": 2,
            "linecolor": "white",
            "showbackground": true,
            "ticks": "",
            "zerolinecolor": "white"
           },
           "zaxis": {
            "backgroundcolor": "#E5ECF6",
            "gridcolor": "white",
            "gridwidth": 2,
            "linecolor": "white",
            "showbackground": true,
            "ticks": "",
            "zerolinecolor": "white"
           }
          },
          "shapedefaults": {
           "line": {
            "color": "#2a3f5f"
           }
          },
          "ternary": {
           "aaxis": {
            "gridcolor": "white",
            "linecolor": "white",
            "ticks": ""
           },
           "baxis": {
            "gridcolor": "white",
            "linecolor": "white",
            "ticks": ""
           },
           "bgcolor": "#E5ECF6",
           "caxis": {
            "gridcolor": "white",
            "linecolor": "white",
            "ticks": ""
           }
          },
          "title": {
           "x": 0.05
          },
          "xaxis": {
           "automargin": true,
           "gridcolor": "white",
           "linecolor": "white",
           "ticks": "",
           "title": {
            "standoff": 15
           },
           "zerolinecolor": "white",
           "zerolinewidth": 2
          },
          "yaxis": {
           "automargin": true,
           "gridcolor": "white",
           "linecolor": "white",
           "ticks": "",
           "title": {
            "standoff": 15
           },
           "zerolinecolor": "white",
           "zerolinewidth": 2
          }
         }
        },
        "title": {
         "text": "AVERAGE REGISTERED USER"
        },
        "width": 800,
        "xaxis": {
         "anchor": "y",
         "autorange": true,
         "domain": [
          0,
          1
         ],
         "range": [
          0,
          293130.6910526316
         ],
         "title": {
          "text": "RegisteredUser"
         },
         "type": "linear"
        },
        "yaxis": {
         "anchor": "x",
         "autorange": true,
         "domain": [
          0,
          1
         ],
         "range": [
          -0.5,
          35.5
         ],
         "title": {
          "text": "States"
         },
         "type": "category"
        }
       }
      },
      "image/png": "[encoded data removed]",
      "text/html": [
       "<div>                            <div id=\"29b4b255-ad22-43c0-8706-a7d80c896608\" class=\"plotly-graph-div\" style=\"height:500px; width:800px;\"></div>            <script type=\"text/javascript\">                require([\"plotly\"], function(Plotly) {                    window.PLOTLYENV=window.PLOTLYENV || {};                                    if (document.getElementById(\"29b4b255-ad22-43c0-8706-a7d80c896608\")) {                    Plotly.newPlot(                        \"29b4b255-ad22-43c0-8706-a7d80c896608\",                        [{\"alignmentgroup\":\"True\",\"hovertemplate\":\"\\u003cb\\u003e%{hovertext}\\u003c\\u002fb\\u003e\\u003cbr\\u003e\\u003cbr\\u003eRegisteredUser=%{x}\\u003cbr\\u003eStates=%{y}\\u003cextra\\u003e\\u003c\\u002fextra\\u003e\",\"hovertext\":[\"Lakshadweep\",\"Andaman & Nicobar\",\"Mizoram\",\"Ladakh\",\"Meghalaya\",\"Nagaland\",\"Sikkim\",\"Arunachal Pradesh\",\"Manipur\",\"Tripura\",\"Jammu & Kashmir\",\"Puducherry\",\"Goa\",\"Kerala\",\"Assam\",\"Chandigarh\",\"Dadra and Nagar Haveli and Daman and Diu\",\"Himachal Pradesh\",\"Odisha\",\"West Bengal\",\"Jharkhand\",\"Chhattisgarh\",\"Tamil Nadu\",\"Uttarakhand\",\"Punjab\",\"Andhra Pradesh\",\"Bihar\",\"Madhya Pradesh\",\"Gujarat\",\"Rajasthan\",\"Telangana\",\"Haryana\",\"Maharashtra\",\"Uttar Pradesh\",\"Karnataka\",\"Delhi\"],\"legendgroup\":\"\",\"marker\":{\"color\":\"rgb(243, 203, 211)\",\"pattern\":{\"shape\":\"\"}},\"name\":\"\",\"offsetgroup\":\"\",\"orientation\":\"h\",\"showlegend\":false,\"textposition\":\"auto\",\"x\":[509.9728,4427.6478,4979.0435,6032.0478,8745.1348,11420.9783,11751.5043,12866.9739,13893.5652,14850.0174,18876.5261,20948.7391,22383.8087,25787.1043,29041.5348,30460.4609,33625.5217,35737.7261,72487.0043,74175.3739,84681.8478,91229.213,93115.7304,96886.387,105721.4391,133219.7304,135648.2522,147110.3043,154280.7391,187124.7261,204146.8,212467.613,247476.6391,247497.9522,259034.0478,278474.1565],\"xaxis\":\"x\",\"y\":[\"Lakshadweep\",\"Andaman & Nicobar\",\"Mizoram\",\"Ladakh\",\"Meghalaya\",\"Nagaland\",\"Sikkim\",\"Arunachal Pradesh\",\"Manipur\",\"Tripura\",\"Jammu & Kashmir\",\"Puducherry\",\"Goa\",\"Kerala\",\"Assam\",\"Chandigarh\",\"Dadra and Nagar Haveli and Daman and Diu\",\"Himachal Pradesh\",\"Odisha\",\"West Bengal\",\"Jharkhand\",\"Chhattisgarh\",\"Tamil Nadu\",\"Uttarakhand\",\"Punjab\",\"Andhra Pradesh\",\"Bihar\",\"Madhya Pradesh\",\"Gujarat\",\"Rajasthan\",\"Telangana\",\"Haryana\",\"Maharashtra\",\"Uttar Pradesh\",\"Karnataka\",\"Delhi\"],\"yaxis\":\"y\",\"type\":\"bar\"}],                        {\"template\":{\"data\":{\"histogram2dcontour\":[{\"type\":\"histogram2dcontour\",\"colorbar\":{\"outlinewidth\":0,\"ticks\":\"\"},\"colorscale\":[[0.0,\"#0d0887\"],[0.1111111111111111,\"#46039f\"],[0.2222222222222222,\"#7201a8\"],[0.3333333333333333,\"#9c179e\"],[0.4444444444444444,\"#bd3786\"],[0.5555555555555556,\"#d8576b\"],[0.6666666666666666,\"#ed7953\"],[0.7777777777777778,\"#fb9f3a\"],[0.8888888888888888,\"#fdca26\"],[1.0,\"#f0f921\"]]}],\"choropleth\":[{\"type\":\"choropleth\",\"colorbar\":{\"outlinewidth\":0,\"ticks\":\"\"}}],\"histogram2d\":[{\"type\":\"histogram2d\",\"colorbar\":{\"outlinewidth\":0,\"ticks\":\"\"},\"colorscale\":[[0.0,\"#0d0887\"],[0.1111111111111111,\"#46039f\"],[0.2222222222222222,\"#7201a8\"],[0.3333333333333333,\"#9c179e\"],[0.4444444444444444,\"#bd3786\"],[0.5555555555555556,\"#d8576b\"],[0.6666666666666666,\"#ed7953\"],[0.7777777777777778,\"#fb9f3a\"],[0.8888888888888888,\"#fdca26\"],[1.0,\"#f0f921\"]]}],\"heatmap\":[{\"type\":\"heatmap\",\"colorbar\":{\"outlinewidth\":0,\"ticks\":\"\"},\"colorscale\":[[0.0,\"#0d0887\"],[0.1111111111111111,\"#46039f\"],[0.2222222222222222,\"#7201a8\"],[0.3333333333333333,\"#9c179e\"],[0.4444444444444444,\"#bd3786\"],[0.5555555555555556,\"#d8576b\"],[0.6666666666666666,\"#ed7953\"],[0.7777777777777778,\"#fb9f3a\"],[0.8888888888888888,\"#fdca26\"],[1.0,\"#f0f921\"]]}],\"heatmapgl\":[{\"type\":\"heatmapgl\",\"colorbar\":{\"outlinewidth\":0,\"ticks\":\"\"},\"colorscale\":[[0.0,\"#0d0887\"],[0.1111111111111111,\"#46039f\"],[0.2222222222222222,\"#7201a8\"],[0.3333333333333333,\"#9c179e\"],[0.4444444444444444,\"#bd3786\"],[0.5555555555555556,\"#d8576b\"],[0.6666666666666666,\"#ed7953\"],[0.7777777777777778,\"#fb9f3a\"],[0.8888888888888888,\"#fdca26\"],[1.0,\"#f0f921\"]]}],\"contourcarpet\":[{\"type\":\"contourcarpet\",\"colorbar\":{\"outlinewidth\":0,\"ticks\":\"\"}}],\"contour\":[{\"type\":\"contour\",\"colorbar\":{\"outlinewidth\":0,\"ticks\":\"\"},\"colorscale\":[[0.0,\"#0d0887\"],[0.1111111111111111,\"#46039f\"],[0.2222222222222222,\"#7201a8\"],[0.3333333333333333,\"#9c179e\"],[0.4444444444444444,\"#bd3786\"],[0.5555555555555556,\"#d8576b\"],[0.6666666666666666,\"#ed7953\"],[0.7777777777777778,\"#fb9f3a\"],[0.8888888888888888,\"#fdca26\"],[1.0,\"#f0f921\"]]}],\"surface\":[{\"type\":\"surface\",\"colorbar\":{\"outlinewidth\":0,\"ticks\":\"\"},\"colorscale\":[[0.0,\"#0d0887\"],[0.1111111111111111,\"#46039f\"],[0.2222222222222222,\"#7201a8\"],[0.3333333333333333,\"#9c179e\"],[0.4444444444444444,\"#bd3786\"],[0.5555555555555556,\"#d8576b\"],[0.6666666666666666,\"#ed7953\"],[0.7777777777777778,\"#fb9f3a\"],[0.8888888888888888,\"#fdca26\"],[1.0,\"#f0f921\"]]}],\"mesh3d\":[{\"type\":\"mesh3d\",\"colorbar\":{\"outlinewidth\":0,\"ticks\":\"\"}}],\"scatter\":[{\"fillpattern\":{\"fillmode\":\"overlay\",\"size\":10,\"solidity\":0.2},\"type\":\"scatter\"}],\"parcoords\":[{\"type\":\"parcoords\",\"line\":{\"colorbar\":{\"outlinewidth\":0,\"ticks\":\"\"}}}],\"scatterpolargl\":[{\"type\":\"scatterpolargl\",\"marker\":{\"colorbar\":{\"outlinewidth\":0,\"ticks\":\"\"}}}],\"bar\":[{\"error_x\":{\"color\":\"#2a3f5f\"},\"error_y\":{\"color\":\"#2a3f5f\"},\"marker\":{\"line\":{\"color\":\"#E5ECF6\",\"width\":0.5},\"pattern\":{\"fillmode\":\"overlay\",\"size\":10,\"solidity\":0.2}},\"type\":\"bar\"}],\"scattergeo\":[{\"type\":\"scattergeo\",\"marker\":{\"colorbar\":{\"outlinewidth\":0,\"ticks\":\"\"}}}],\"scatterpolar\":[{\"type\":\"scatterpolar\",\"marker\":{\"colorbar\":{\"outlinewidth\":0,\"ticks\":\"\"}}}],\"histogram\":[{\"marker\":{\"pattern\":{\"fillmode\":\"overlay\",\"size\":10,\"solidity\":0.2}},\"type\":\"histogram\"}],\"scattergl\":[{\"type\":\"scattergl\",\"marker\":{\"colorbar\":{\"outlinewidth\":0,\"ticks\":\"\"}}}],\"scatter3d\":[{\"type\":\"scatter3d\",\"line\":{\"colorbar\":{\"outlinewidth\":0,\"ticks\":\"\"}},\"marker\":{\"colorbar\":{\"outlinewidth\":0,\"ticks\":\"\"}}}],\"scattermapbox\":[{\"type\":\"scattermapbox\",\"marker\":{\"colorbar\":{\"outlinewidth\":0,\"ticks\":\"\"}}}],\"scatterternary\":[{\"type\":\"scatterternary\",\"marker\":{\"colorbar\":{\"outlinewidth\":0,\"ticks\":\"\"}}}],\"scattercarpet\":[{\"type\":\"scattercarpet\",\"marker\":{\"colorbar\":{\"outlinewidth\":0,\"ticks\":\"\"}}}],\"carpet\":[{\"aaxis\":{\"endlinecolor\":\"#2a3f5f\",\"gridcolor\":\"white\",\"linecolor\":\"white\",\"minorgridcolor\":\"white\",\"startlinecolor\":\"#2a3f5f\"},\"baxis\":{\"endlinecolor\":\"#2a3f5f\",\"gridcolor\":\"white\",\"linecolor\":\"white\",\"minorgridcolor\":\"white\",\"startlinecolor\":\"#2a3f5f\"},\"type\":\"carpet\"}],\"table\":[{\"cells\":{\"fill\":{\"color\":\"#EBF0F8\"},\"line\":{\"color\":\"white\"}},\"header\":{\"fill\":{\"color\":\"#C8D4E3\"},\"line\":{\"color\":\"white\"}},\"type\":\"table\"}],\"barpolar\":[{\"marker\":{\"line\":{\"color\":\"#E5ECF6\",\"width\":0.5},\"pattern\":{\"fillmode\":\"overlay\",\"size\":10,\"solidity\":0.2}},\"type\":\"barpolar\"}],\"pie\":[{\"automargin\":true,\"type\":\"pie\"}]},\"layout\":{\"autotypenumbers\":\"strict\",\"colorway\":[\"#636efa\",\"#EF553B\",\"#00cc96\",\"#ab63fa\",\"#FFA15A\",\"#19d3f3\",\"#FF6692\",\"#B6E880\",\"#FF97FF\",\"#FECB52\"],\"font\":{\"color\":\"#2a3f5f\"},\"hovermode\":\"closest\",\"hoverlabel\":{\"align\":\"left\"},\"paper_bgcolor\":\"white\",\"plot_bgcolor\":\"#E5ECF6\",\"polar\":{\"bgcolor\":\"#E5ECF6\",\"angularaxis\":{\"gridcolor\":\"white\",\"linecolor\":\"white\",\"ticks\":\"\"},\"radialaxis\":{\"gridcolor\":\"white\",\"linecolor\":\"white\",\"ticks\":\"\"}},\"ternary\":{\"bgcolor\":\"#E5ECF6\",\"aaxis\":{\"gridcolor\":\"white\",\"linecolor\":\"white\",\"ticks\":\"\"},\"baxis\":{\"gridcolor\":\"white\",\"linecolor\":\"white\",\"ticks\":\"\"},\"caxis\":{\"gridcolor\":\"white\",\"linecolor\":\"white\",\"ticks\":\"\"}},\"coloraxis\":{\"colorbar\":{\"outlinewidth\":0,\"ticks\":\"\"}},\"colorscale\":{\"sequential\":[[0.0,\"#0d0887\"],[0.1111111111111111,\"#46039f\"],[0.2222222222222222,\"#7201a8\"],[0.3333333333333333,\"#9c179e\"],[0.4444444444444444,\"#bd3786\"],[0.5555555555555556,\"#d8576b\"],[0.6666666666666666,\"#ed7953\"],[0.7777777777777778,\"#fb9f3a\"],[0.8888888888888888,\"#fdca26\"],[1.0,\"#f0f921\"]],\"sequentialminus\":[[0.0,\"#0d0887\"],[0.1111111111111111,\"#46039f\"],[0.2222222222222222,\"#7201a8\"],[0.3333333333333333,\"#9c179e\"],[0.4444444444444444,\"#bd3786\"],[0.5555555555555556,\"#d8576b\"],[0.6666666666666666,\"#ed7953\"],[0.7777777777777778,\"#fb9f3a\"],[0.8888888888888888,\"#fdca26\"],[1.0,\"#f0f921\"]],\"diverging\":[[0,\"#8e0152\"],[0.1,\"#c51b7d\"],[0.2,\"#de77ae\"],[0.3,\"#f1b6da\"],[0.4,\"#fde0ef\"],[0.5,\"#f7f7f7\"],[0.6,\"#e6f5d0\"],[0.7,\"#b8e186\"],[0.8,\"#7fbc41\"],[0.9,\"#4d9221\"],[1,\"#276419\"]]},\"xaxis\":{\"gridcolor\":\"white\",\"linecolor\":\"white\",\"ticks\":\"\",\"title\":{\"standoff\":15},\"zerolinecolor\":\"white\",\"automargin\":true,\"zerolinewidth\":2},\"yaxis\":{\"gridcolor\":\"white\",\"linecolor\":\"white\",\"ticks\":\"\",\"title\":{\"standoff\":15},\"zerolinecolor\":\"white\",\"automargin\":true,\"zerolinewidth\":2},\"scene\":{\"xaxis\":{\"backgroundcolor\":\"#E5ECF6\",\"gridcolor\":\"white\",\"linecolor\":\"white\",\"showbackground\":true,\"ticks\":\"\",\"zerolinecolor\":\"white\",\"gridwidth\":2},\"yaxis\":{\"backgroundcolor\":\"#E5ECF6\",\"gridcolor\":\"white\",\"linecolor\":\"white\",\"showbackground\":true,\"ticks\":\"\",\"zerolinecolor\":\"white\",\"gridwidth\":2},\"zaxis\":{\"backgroundcolor\":\"#E5ECF6\",\"gridcolor\":\"white\",\"linecolor\":\"white\",\"showbackground\":true,\"ticks\":\"\",\"zerolinecolor\":\"white\",\"gridwidth\":2}},\"shapedefaults\":{\"line\":{\"color\":\"#2a3f5f\"}},\"annotationdefaults\":{\"arrowcolor\":\"#2a3f5f\",\"arrowhead\":0,\"arrowwidth\":1},\"geo\":{\"bgcolor\":\"white\",\"landcolor\":\"#E5ECF6\",\"subunitcolor\":\"white\",\"showland\":true,\"showlakes\":true,\"lakecolor\":\"white\"},\"title\":{\"x\":0.05},\"mapbox\":{\"style\":\"light\"}}},\"xaxis\":{\"anchor\":\"y\",\"domain\":[0.0,1.0],\"title\":{\"text\":\"RegisteredUser\"}},\"yaxis\":{\"anchor\":\"x\",\"domain\":[0.0,1.0],\"title\":{\"text\":\"States\"}},\"legend\":{\"tracegroupgap\":0},\"title\":{\"text\":\"AVERAGE REGISTERED USER\"},\"barmode\":\"relative\",\"height\":500,\"width\":800},                        {\"responsive\": true}                    ).then(function(){\n",
       "                            \n",
       "var gd = document.getElementById('29b4b255-ad22-43c0-8706-a7d80c896608');\n",
       "var x = new MutationObserver(function (mutations, observer) {{\n",
       "        var display = window.getComputedStyle(gd).display;\n",
       "        if (!display || display === 'none') {{\n",
       "            console.log([gd, 'removed!']);\n",
       "            Plotly.purge(gd);\n",
       "            observer.disconnect();\n",
       "        }}\n",
       "}});\n",
       "\n",
       "// Listen for the removal of the full notebook cells\n",
       "var notebookContainer = gd.closest('#notebook-container');\n",
       "if (notebookContainer) {{\n",
       "    x.observe(notebookContainer, {childList: true});\n",
       "}}\n",
       "\n",
       "// Listen for the clearing of the current output cell\n",
       "var outputEl = gd.closest('.output');\n",
       "if (outputEl) {{\n",
       "    x.observe(outputEl, {childList: true});\n",
       "}}\n",
       "\n",
       "                        })                };                });            </script>        </div>"
      ]
     },
     "metadata": {},
     "output_type": "display_data"
    }
   ],
   "source": [
    "top_chart_registered_user1(\"top_user\")"
   ]
  },
  {
   "cell_type": "code",
   "execution_count": null,
   "id": "fd0f53ae-ae4e-49f2-a1a6-0dce7ad31831",
   "metadata": {},
   "outputs": [],
   "source": [
    "top_chart_app_opens(\"map_user\", \"Tamil Nadu\")"
   ]
  },
  {
   "cell_type": "code",
   "execution_count": null,
   "id": "e5c97d87-5ba3-483e-83b5-2483dd00107d",
   "metadata": {},
   "outputs": [],
   "source": [
    "Aggregated_insurance[Aggregated_insurance[\"Years\"] == 2021]"
   ]
  },
  {
   "cell_type": "code",
   "execution_count": null,
   "id": "e96a3289-5c62-4e3f-a677-f0c8cfc6d822",
   "metadata": {},
   "outputs": [],
   "source": [
    "def Transaction_amount_count_Y(year):\n",
    "    trans = Aggregated_insurance[Aggregated_insurance[\"Years\"] == year]\n",
    "    trans.reset_index(drop = True,inplace = True)\n",
    "    \n",
    "    trans_group = trans.groupby(\"States\")[[\"Transaction_count\",\"Transaction_amount\"]].sum()\n",
    "    trans_group.reset_index(inplace = True)\n",
    "    \n",
    "    fig_amount = px.bar(trans_group,x='States',y='Transaction_amount',title=f'{year} TRANSACTION AMOUNT',color_discrete_sequence=px.colors.sequential.Sunsetdark_r,height=1000)\n",
    "    fig_amount.show()\n",
    "    \n",
    "    fig_count = px.bar(trans_group,x='States',y='Transaction_count',title=f'{year} TRANSACTION COUNT',height=1000)\n",
    "    fig_count.show()"
   ]
  },
  {
   "cell_type": "code",
   "execution_count": null,
   "id": "9520d4ef-d5d2-43d9-9de8-2e1bd5687374",
   "metadata": {},
   "outputs": [],
   "source": [
    "#Transaction year wise\n",
    "def Transaction_amount_count_Y(df, year):\n",
    "    trans = df[df[\"Years\"] == year]\n",
    "    trans.reset_index(drop = True,inplace = True)\n",
    "    \n",
    "    trans_group = trans.groupby(\"States\")[[\"Transaction_count\",\"Transaction_amount\"]].sum()\n",
    "    trans_group.reset_index(inplace = True)\n",
    "    \n",
    "    fig_amount = px.bar(trans_group,x='States',y='Transaction_amount',title=f'{year} TRANSACTION AMOUNT',color_discrete_sequence=px.colors.sequential.Sunsetdark_r,height=1000)\n",
    "    fig_amount.show()\n",
    "    \n",
    "    fig_count = px.bar(trans_group,x='States',y='Transaction_count',title=f'{year} TRANSACTION COUNT',height=1000)\n",
    "    fig_count.show()\n",
    "    \n",
    "    url = \"https://gist.githubusercontent.com/jbrobst/56c13bbbf9d97d187fea01ca62ea5112/raw/e388c4cae20aa53cb5090210a42ebb9b765c0a36/india_states.geojson\"\n",
    "    response = requests.get(url)\n",
    "    data1 = json.loads(response.content)\n",
    "    states_name = []\n",
    "    for feature in data1[\"features\"]:\n",
    "        states_name.append(feature[\"properties\"][\"ST_NM\"])\n",
    "    \n",
    "    states_name.sort()\n",
    "    fig_india_1 = px.choropleth(trans_group, geojson = data1, locations = \"States\", featureidkey = \"properties.ST_NM\",\n",
    "                               color = \"Transaction_amount\", color_continuous_scale = \"Rainbow\",\n",
    "                               range_color = (trans_group[\"Transaction_amount\"].min(), trans_group[\"Transaction_amount\"].max()),\n",
    "                               hover_name = \"States\", title = f\"{year} TRANSACTION AMOUNT\", fitbounds = \"locations\",\n",
    "                               height = 600, width = 600)\n",
    "    fig_india_1.update_geos(visible = False)\n",
    "    fig_india_1.show()\n",
    "\n",
    "    fig_india_2 = px.choropleth(trans_group, geojson = data1, locations = \"States\", featureidkey = \"properties.ST_NM\",\n",
    "                               color = \"Transaction_count\", color_continuous_scale = \"Rainbow\",\n",
    "                               range_color = (trans_group[\"Transaction_count\"].min(), trans_group[\"Transaction_count\"].max()),\n",
    "                               hover_name = \"States\", title = f\"{year} TRANSACTION COUNT\", fitbounds = \"locations\",\n",
    "                               height = 600, width = 600)\n",
    "    fig_india_2.update_geos(visible = False)\n",
    "    fig_india_2.show()\n",
    "\n",
    "    return trans\n",
    "\n",
    "#trans_group\n"
   ]
  },
  {
   "cell_type": "code",
   "execution_count": null,
   "id": "83b4da75-b197-4817-8959-6799a43431c6",
   "metadata": {},
   "outputs": [],
   "source": [
    "#Transaction Quarter wise\n",
    "def Transaction_amount_count_Y_Q(df, quarter):\n",
    "    trans = df[df[\"Quarter\"] == quarter]\n",
    "    trans.reset_index(drop = True,inplace = True)\n",
    "    \n",
    "    trans_group = trans.groupby(\"States\")[[\"Transaction_count\",\"Transaction_amount\"]].sum()\n",
    "    trans_group.reset_index(inplace = True)\n",
    "    \n",
    "    fig_amount = px.bar(trans_group,x='States',y='Transaction_amount',title=f'{trans_y[\"Years\"].min()} QUARTER {quarter} TRANSACTION AMOUNT',color_discrete_sequence=px.colors.sequential.Sunsetdark_r,height=1000)\n",
    "    fig_amount.show()\n",
    "    \n",
    "    fig_count = px.bar(trans_group,x='States',y='Transaction_count',title=f'{trans_y[\"Years\"].min()} QUARTER {quarter} TRANSACTION COUNT',height=1000)\n",
    "    fig_count.show()\n",
    "    \n",
    "    url = \"https://gist.githubusercontent.com/jbrobst/56c13bbbf9d97d187fea01ca62ea5112/raw/e388c4cae20aa53cb5090210a42ebb9b765c0a36/india_states.geojson\"\n",
    "    response = requests.get(url)\n",
    "    data1 = json.loads(response.content)\n",
    "    states_name = []\n",
    "    for feature in data1[\"features\"]:\n",
    "        states_name.append(feature[\"properties\"][\"ST_NM\"])\n",
    "    \n",
    "    states_name.sort()\n",
    "    fig_india_1 = px.choropleth(trans_group, geojson = data1, locations = \"States\", featureidkey = \"properties.ST_NM\",\n",
    "                               color = \"Transaction_amount\", color_continuous_scale = \"Rainbow\",\n",
    "                               range_color = (trans_group[\"Transaction_amount\"].min(), trans_group[\"Transaction_amount\"].max()),\n",
    "                               hover_name = \"States\", title = f\"{trans_y[\"Years\"].min()} QUARTER {quarter} TRANSACTION AMOUNT\", fitbounds = \"locations\",\n",
    "                               height = 600, width = 600)\n",
    "    fig_india_1.update_geos(visible = False)\n",
    "    fig_india_1.show()\n",
    "\n",
    "    fig_india_2 = px.choropleth(trans_group, geojson = data1, locations = \"States\", featureidkey = \"properties.ST_NM\",\n",
    "                               color = \"Transaction_count\", color_continuous_scale = \"Rainbow\",\n",
    "                               range_color = (trans_group[\"Transaction_count\"].min(), trans_group[\"Transaction_count\"].max()),\n",
    "                               hover_name = \"States\", title = f\"{trans_y[\"Years\"].min()} QUARTER {quarter} TRANSACTION COUNT\", fitbounds = \"locations\",\n",
    "                               height = 600, width = 600)\n",
    "    fig_india_2.update_geos(visible = False)\n",
    "    fig_india_2.show()\n",
    "\n",
    "    return trans"
   ]
  },
  {
   "cell_type": "code",
   "execution_count": null,
   "id": "0735dba0-6ee4-4404-8bc0-08b957dc9969",
   "metadata": {},
   "outputs": [],
   "source": [
    "#Transaction type\n",
    "def aggr_trans_Transaction_type(df,state):\n",
    "\n",
    "    trans = df[df[\"States\"] == state]\n",
    "    trans.reset_index(drop = True,inplace = True)\n",
    "    #trans\n",
    "    trans_group = trans.groupby(\"Transaction_type\")[[\"Transaction_count\",\"Transaction_amount\"]].sum()\n",
    "    trans_group.reset_index(inplace = True)\n",
    "    #trans_group\n",
    "    \n",
    "    fig_pie1 = px.pie(data_frame = trans_group, names=\"Transaction_type\", values= \"Transaction_amount\",\n",
    "                      width = 600, title= f\"{state.upper()} TRANSACTION AMOUNT\")\n",
    "    fig_pie1.show()\n",
    "    \n",
    "    fig_pie2 = px.pie(data_frame = trans_group, names=\"Transaction_type\", values= \"Transaction_count\",\n",
    "                      width = 600, title= f\"{state.upper()} TRANSACTION COUNT\")\n",
    "    fig_pie2.show()"
   ]
  },
  {
   "cell_type": "code",
   "execution_count": null,
   "id": "43536510-b1ee-4d65-96fc-66aff49c6165",
   "metadata": {},
   "outputs": [],
   "source": [
    "#Aggregated user analysis1\n",
    "def Aggre_user_plot1(df,year):\n",
    "\n",
    "    aguy = df[df[\"Years\"] == year]\n",
    "    aguy.reset_index(drop = True, inplace = True)\n",
    "    aguyg = pd.DataFrame(aguy.groupby(\"Brands\")[\"Transaction_count\"].sum())\n",
    "    aguyg.reset_index( inplace = True)\n",
    "    \n",
    "    fig_bar1 = px.bar(aguyg, x = \"Brands\", y = \"Transaction_count\", title = f\"{year} BRANDS AND TRANSACTION COUNT\",\n",
    "                      width = 600, color_discrete_sequence=px.colors.sequential.haline_r, hover_name = \"Brands\")\n",
    "    fig_bar1.show()\n",
    "\n",
    "    return aguy"
   ]
  },
  {
   "cell_type": "code",
   "execution_count": null,
   "id": "61a7b332-d112-43dd-9f20-b4cbf9fc56d3",
   "metadata": {},
   "outputs": [],
   "source": [
    "#Aggregated user analysis 2\n",
    "def Aggre_user_plot2(df,quarter):\n",
    "    aguyq = df[df[\"Quarter\"] == quarter]\n",
    "    aguyq.reset_index(drop = True, inplace = True)\n",
    "    \n",
    "    aguyqg = pd.DataFrame(aguyq.groupby(\"Brands\")[\"Transaction_count\"].sum())\n",
    "    aguyqg.reset_index( inplace = True)\n",
    "    \n",
    "    fig_bar1 = px.bar(aguyqg, x = \"Brands\", y = \"Transaction_count\", title = f\"Quarter- {quarter}, BRANDS AND TRANSACTION COUNT\",\n",
    "                          width = 600, color_discrete_sequence=px.colors.sequential.haline_r, hover_name = \"Brands\")\n",
    "    fig_bar1.show()\n",
    "\n",
    "    return aguyq"
   ]
  },
  {
   "cell_type": "code",
   "execution_count": null,
   "id": "5396e78b-d902-4a6e-99af-ae5d4828c278",
   "metadata": {},
   "outputs": [],
   "source": [
    "#Aggregated user analysis 3\n",
    "def Aggre_user_plot3(df,state):\n",
    "    aguyqs = Aggre_user_y_q[Aggre_user_y_q[\"States\"] == state]\n",
    "    aguyqs.reset_index(drop= True, inplace = True)\n",
    "    \n",
    "    aguyqsg = aguyqs.groupby(\"Brands\")[[\"Transaction_count\", \"Percentage\"]].sum()\n",
    "    aguyqsg.reset_index(inplace=True)\n",
    "    \n",
    "    fig_line_1 = px.line(aguyqsg, x =\"Brands\", y =\"Transaction_count\", hover_data = \"Percentage\",\n",
    "                         title = f\"{state.upper()}- BRANDS, TRANSACTION_COUNT, PERCENTAGE\", width = 800, markers = True)\n",
    "    fig_line_1.show()"
   ]
  },
  {
   "cell_type": "code",
   "execution_count": null,
   "id": "07972f8c-9d3a-4ead-abec-8aafcf01c227",
   "metadata": {},
   "outputs": [],
   "source": [
    "#Map Insurance Districts\n",
    "def Map_insur_District(df,state):\n",
    "\n",
    "    trans = df[df[\"States\"] == state]\n",
    "    trans.reset_index(drop = True,inplace = True)\n",
    "    #trans\n",
    "    trans_group = trans.groupby(\"District\")[[\"Transaction_count\",\"Transaction_amount\"]].sum()\n",
    "    trans_group.reset_index(inplace = True)\n",
    "    #trans_group\n",
    "    \n",
    "    fig_bar1 = px.bar(trans_group, x= \"Transaction_amount\", y= \"District\", orientation = \"h\", title = f\"{state.upper()} DISTRICT AND TRANSACTION AMOUNT\",\n",
    "                      color_discrete_sequence = px.colors.sequential.Mint_r)\n",
    "    fig_bar1.show()\n",
    "    \n",
    "    fig_bar2 = px.bar(trans_group, x= \"Transaction_count\", y= \"District\", orientation = \"h\", title = f\"{state.upper()} DISTRICT AND TRANSACTION COUNT\",\n",
    "                      color_discrete_sequence = px.colors.sequential.Bluered_r)\n",
    "    fig_bar2.show()"
   ]
  },
  {
   "cell_type": "code",
   "execution_count": null,
   "id": "529cd127-10f0-4a68-bd4f-da10213214cc",
   "metadata": {},
   "outputs": [],
   "source": [
    "# Map user plot 1\n",
    "def map_user_plot1(df,year):\n",
    "    muy = df[df[\"Years\"] == year]\n",
    "    muy.reset_index(drop = True, inplace = True)\n",
    "    #muy\n",
    "    muyg = muy.groupby(\"States\")[[\"RegisteredUser\",\"AppOpens\"]].sum()\n",
    "    muyg.reset_index( inplace = True)\n",
    "    \n",
    "    fig_line_1 = px.line(muyg, x =\"States\", y =[\"RegisteredUser\", \"AppOpens\"], \n",
    "                             title = f\"{year} REGISTERED_USER AND APP_OPENS\", width = 800,height = 600, markers = True)\n",
    "    fig_line_1.show()\n",
    "\n",
    "    return muy"
   ]
  },
  {
   "cell_type": "code",
   "execution_count": null,
   "id": "a11aef37-44f0-43a4-b2fe-b728d38045e8",
   "metadata": {},
   "outputs": [],
   "source": [
    "# Map user plot 2\n",
    "def map_user_plot2(df,quarter):\n",
    "    muyq = df[df[\"Quarter\"] == quarter]\n",
    "    muyq.reset_index(drop = True, inplace = True)\n",
    "    #muyq\n",
    "    muyqg = muyq.groupby(\"States\")[[\"RegisteredUser\",\"AppOpens\"]].sum()\n",
    "    muyqg.reset_index( inplace = True)\n",
    "    \n",
    "    fig_line_1 = px.line(muyqg, x =\"States\", y =[\"RegisteredUser\", \"AppOpens\"], \n",
    "                             title = f\"QUARTER-{quarter} REGISTERED_USER AND APP_OPENS\", width = 800,height = 600, markers = True)\n",
    "    fig_line_1.show()\n",
    "\n",
    "    return muyq"
   ]
  },
  {
   "cell_type": "code",
   "execution_count": null,
   "id": "bccec4e8-7e9e-4be0-87e9-a0789a055b93",
   "metadata": {},
   "outputs": [],
   "source": [
    "# Map user plot 3\n",
    "def map_user_plot3(df,states):\n",
    "    muyqs = df[df[\"States\"] == states]\n",
    "    muyqs.reset_index(drop = True, inplace = True)\n",
    "    muyqs\n",
    "    \n",
    "    fig_map_user_bar1 = px.bar(muyqs, x= \"RegisteredUser\", y = \"District\", orientation = \"h\",\n",
    "                               title = \"REGISTERED USER\")\n",
    "    fig_map_user_bar1.show()\n",
    "    fig_map_user_bar2 = px.bar(muyqs, x= \"AppOpens\", y = \"District\", orientation = \"h\",\n",
    "                               title = \"APP OPENS\")\n",
    "    fig_map_user_bar2.show()"
   ]
  },
  {
   "cell_type": "code",
   "execution_count": null,
   "id": "0ad54f5c-55af-42ca-8409-6103bc63e1f5",
   "metadata": {},
   "outputs": [],
   "source": [
    "# Top Insurance plot 1\n",
    "def top_insurance_plot1(df,state):\n",
    "    tiy = df[df[\"States\"] == state]\n",
    "    tiy.reset_index(drop = True, inplace = True)\n",
    "        \n",
    "    fig_top_insur_bar1 = px.bar(tiy, x= \"Quarter\", y = \"Transaction_amount\", hover_data = \"Pincodes\", title = \"TRANSACTION AMOUNT\")\n",
    "    fig_top_insur_bar1.show()\n",
    "\n",
    "    fig_top_insur_bar2 = px.bar(tiy, x= \"Quarter\", y = \"Transaction_count\", hover_data = \"Pincodes\", title = \"TRANSACTION COUNT\")\n",
    "    fig_top_insur_bar2.show()"
   ]
  },
  {
   "cell_type": "code",
   "execution_count": null,
   "id": "3c865ef1-0235-4931-ba7f-df6b60155529",
   "metadata": {},
   "outputs": [],
   "source": [
    "# Top User plot1\n",
    "def top_user_plot1(df,year):\n",
    "    tuy = df[df[\"Years\"] == year]\n",
    "    tuy.reset_index(drop = True, inplace = True)\n",
    "    \n",
    "    tuyg = pd.DataFrame(tuy.groupby([\"States\", \"Quarter\"])[\"RegisteredUser\"].sum())\n",
    "    tuyg.reset_index( inplace = True)\n",
    "    \n",
    "    \n",
    "    fig_top_plot1 = px.bar(tuyg, x = \"States\", y= \"RegisteredUser\", color = \"Quarter\", width = 1000, height = 800,\n",
    "                           color_discrete_sequence= px.colors.sequential.Rainbow_r, hover_name = \"States\", title = f\"{year} REGISTERED USER\")\n",
    "    fig_top_plot1.show()\n",
    "\n",
    "    return tuy"
   ]
  },
  {
   "cell_type": "code",
   "execution_count": null,
   "id": "b8539616-3ff2-4d3b-aee2-7d9fdbbe47b0",
   "metadata": {},
   "outputs": [],
   "source": [
    "#Top user plot 2\n",
    "def top_user_plot2(df,state):\n",
    "    tuys = df[df[\"States\"] == state]\n",
    "    tuys.reset_index(drop = True, inplace = True)\n",
    "    \n",
    "    fig_top_plot2 = px.bar(tuys, x = \"Quarter\", y = \"RegisteredUser\", title = f\"{state.upper()} REGISTERED USER , PINCODE & QUARTER\",\n",
    "                           width = 800, height = 1000, color = \"RegisteredUser\", hover_data = \"Pincodes\",\n",
    "                           color_continuous_scale = px.colors.sequential.Magenta)\n",
    "    fig_top_plot2.show()"
   ]
  },
  {
   "cell_type": "code",
   "execution_count": null,
   "id": "396e1775-2d55-43e5-a999-99784969eea9",
   "metadata": {},
   "outputs": [],
   "source": [
    "#Aggregated insurance\n",
    "trans_y = Transaction_amount_count_Y(Aggregated_insurance, 2023)"
   ]
  },
  {
   "cell_type": "code",
   "execution_count": null,
   "id": "93ccca93-ddf2-42fa-a1f9-090f71b2ac62",
   "metadata": {},
   "outputs": [],
   "source": [
    "Transaction_amount_count_Y_Q(trans_y,2)"
   ]
  },
  {
   "cell_type": "code",
   "execution_count": null,
   "id": "a1a2b874-ff20-4ae6-8b34-2ca8ab22907f",
   "metadata": {},
   "outputs": [],
   "source": [
    "#Aggregated Transaction\n",
    "Aggr_trans_trans_y = Transaction_amount_count_Y(Aggregated_transaction, 2023)"
   ]
  },
  {
   "cell_type": "code",
   "execution_count": null,
   "id": "68c7599e-20f1-4e2b-ad13-ffc248022b1f",
   "metadata": {},
   "outputs": [],
   "source": [
    "aggr_trans_Transaction_type(Aggr_trans_trans_y,\"Tamil Nadu\")"
   ]
  },
  {
   "cell_type": "code",
   "execution_count": null,
   "id": "60997632-aea7-4e73-93c8-6aaa2977896d",
   "metadata": {},
   "outputs": [],
   "source": [
    "Aggr_trans_trans_y_Q = Transaction_amount_count_Y_Q(Aggr_trans_trans_y,3)"
   ]
  },
  {
   "cell_type": "code",
   "execution_count": null,
   "id": "3dbff645-5ff5-4fe5-ab4b-beec68f75124",
   "metadata": {},
   "outputs": [],
   "source": [
    "aggr_trans_Transaction_type(Aggr_trans_trans_y_Q,\"Tamil Nadu\")"
   ]
  },
  {
   "cell_type": "code",
   "execution_count": null,
   "id": "3947b4cc-a22c-4eca-b174-22e995d2e627",
   "metadata": {},
   "outputs": [],
   "source": [
    "#Aggregated user\n",
    "Aggregated_user"
   ]
  },
  {
   "cell_type": "code",
   "execution_count": null,
   "id": "4579cc32-4909-4024-81ee-c85574d0deaa",
   "metadata": {},
   "outputs": [],
   "source": [
    "Aggre_user_y = Aggre_user_plot1(Aggregated_user,2020)"
   ]
  },
  {
   "cell_type": "code",
   "execution_count": null,
   "id": "7a0e7c24-dd9d-4837-9c5d-03f587c3685c",
   "metadata": {},
   "outputs": [],
   "source": [
    "Aggre_user_y_q = Aggre_user_plot2(Aggre_user_y,3)"
   ]
  },
  {
   "cell_type": "code",
   "execution_count": null,
   "id": "1c2b5f7a-7ccd-49fd-92bd-4f5fb755e3dd",
   "metadata": {},
   "outputs": [],
   "source": [
    "Aggre_user_plot3(Aggre_user_y_q,\"Delhi\")"
   ]
  },
  {
   "cell_type": "code",
   "execution_count": null,
   "id": "98eab6d6-6a6d-4b24-8302-18bde9e30212",
   "metadata": {},
   "outputs": [],
   "source": [
    "###Map Insurance"
   ]
  },
  {
   "cell_type": "code",
   "execution_count": null,
   "id": "a16dbe11-c1d4-402e-9a83-9c8d2bc9b1bb",
   "metadata": {},
   "outputs": [],
   "source": [
    "Map_insur_tac_y = Transaction_amount_count_Y(Map_insurance, 2023)"
   ]
  },
  {
   "cell_type": "code",
   "execution_count": null,
   "id": "05453a5a-228c-42ed-baa8-7c15c94c1617",
   "metadata": {},
   "outputs": [],
   "source": [
    "Map_insur_District(Map_insur_tac_y,\"Tamil Nadu\")"
   ]
  },
  {
   "cell_type": "code",
   "execution_count": null,
   "id": "55e26cf1-792f-497a-9f7a-231baf9f39fa",
   "metadata": {},
   "outputs": [],
   "source": [
    "Map_insur_tac_y_Q = Transaction_amount_count_Y_Q(Map_insur_tac_y,3)"
   ]
  },
  {
   "cell_type": "code",
   "execution_count": null,
   "id": "e5a82889-a53d-4030-a8c3-5d83b4e00170",
   "metadata": {},
   "outputs": [],
   "source": [
    "Map_insur_District(Map_insur_tac_y_Q,\"Tamil Nadu\")"
   ]
  },
  {
   "cell_type": "code",
   "execution_count": null,
   "id": "9a3e2f5d-3110-4061-989b-ce3ba3517f6a",
   "metadata": {},
   "outputs": [],
   "source": [
    "Map_insurance"
   ]
  },
  {
   "cell_type": "code",
   "execution_count": null,
   "id": "cf87a789-2ed8-4723-8aba-564e5ad96ff8",
   "metadata": {},
   "outputs": [],
   "source": [
    "#Map Transaction"
   ]
  },
  {
   "cell_type": "code",
   "execution_count": null,
   "id": "ad5484c7-21f5-422a-b1b6-21916d18a2b9",
   "metadata": {},
   "outputs": [],
   "source": [
    "Map_trans_tac_y = Transaction_amount_count_Y(Map_transaction, 2023)"
   ]
  },
  {
   "cell_type": "code",
   "execution_count": null,
   "id": "fc55ad72-01b4-4994-b177-052e2fc1eed6",
   "metadata": {},
   "outputs": [],
   "source": [
    "Map_insur_District(Map_trans_tac_y,\"Tamil Nadu\")"
   ]
  },
  {
   "cell_type": "code",
   "execution_count": null,
   "id": "c7f1400a-4e5d-43d6-91d6-189407558aaa",
   "metadata": {},
   "outputs": [],
   "source": [
    "Map_trans_tac_y_Q = Transaction_amount_count_Y_Q(Map_trans_tac_y,3)"
   ]
  },
  {
   "cell_type": "code",
   "execution_count": null,
   "id": "7f5fffaf-c126-4437-a8fb-d6bd6a5f4601",
   "metadata": {},
   "outputs": [],
   "source": [
    "Map_insur_District(Map_trans_tac_y_Q,\"Tamil Nadu\")"
   ]
  },
  {
   "cell_type": "code",
   "execution_count": null,
   "id": "ca95e318-c1b6-47f5-9c88-07e32ed6d7bc",
   "metadata": {},
   "outputs": [],
   "source": [
    "Map_transaction"
   ]
  },
  {
   "cell_type": "code",
   "execution_count": null,
   "id": "b85a63d5-3c84-4b56-baf9-220822f903a8",
   "metadata": {},
   "outputs": [],
   "source": [
    "#Map User"
   ]
  },
  {
   "cell_type": "code",
   "execution_count": null,
   "id": "809a3017-fe52-4e47-8e8c-afd0538a5d54",
   "metadata": {},
   "outputs": [],
   "source": [
    "map_user_Y = map_user_plot1(Map_user,2020)"
   ]
  },
  {
   "cell_type": "code",
   "execution_count": null,
   "id": "1a7e4a02-c6c1-420a-b6a1-5b1738cdb818",
   "metadata": {},
   "outputs": [],
   "source": [
    "map_user_Y_Q = map_user_plot2(map_user_Y,2)"
   ]
  },
  {
   "cell_type": "code",
   "execution_count": null,
   "id": "6cbfb7e4-ef89-42f3-9ce5-2508dbc586e6",
   "metadata": {},
   "outputs": [],
   "source": [
    "map_user_plot3(map_user_Y_Q,\"West Bengal\")"
   ]
  },
  {
   "cell_type": "code",
   "execution_count": null,
   "id": "73641e1a-e82f-4e39-a522-b1c952eefd8f",
   "metadata": {},
   "outputs": [],
   "source": [
    "Map_user"
   ]
  },
  {
   "cell_type": "code",
   "execution_count": null,
   "id": "88a7d88b-23b0-47c7-b82c-2a7498e36c45",
   "metadata": {},
   "outputs": [],
   "source": [
    "# Top Insurance"
   ]
  },
  {
   "cell_type": "code",
   "execution_count": null,
   "id": "0f594142-ec38-444b-bb6a-5e982d367837",
   "metadata": {},
   "outputs": [],
   "source": [
    "Top_insur_tac_y = Transaction_amount_count_Y(Top_insurance, 2023)"
   ]
  },
  {
   "cell_type": "code",
   "execution_count": null,
   "id": "5d15be09-2ff8-4bde-9a2e-913dfbbd1be5",
   "metadata": {},
   "outputs": [],
   "source": [
    "top_insurance_plot1(Top_insur_tac_y,\"West Bengal\")"
   ]
  },
  {
   "cell_type": "code",
   "execution_count": null,
   "id": "6b00a163-975d-49c2-ac6f-22d0bfc48332",
   "metadata": {},
   "outputs": [],
   "source": [
    "Top_insur_tac_y_Q = Transaction_amount_count_Y_Q(Top_insur_tac_y,3)"
   ]
  },
  {
   "cell_type": "code",
   "execution_count": null,
   "id": "d22d3eab-20e4-4c54-90b0-f951e04d1d2a",
   "metadata": {},
   "outputs": [],
   "source": [
    "#Top Transaction"
   ]
  },
  {
   "cell_type": "code",
   "execution_count": null,
   "id": "2b0d2f4b-7658-45cb-a40a-b7521924be5d",
   "metadata": {},
   "outputs": [],
   "source": [
    "Top_tran_tac_y = Transaction_amount_count_Y(Top_transaction, 2023)"
   ]
  },
  {
   "cell_type": "code",
   "execution_count": null,
   "id": "ad8c58ab-8dfd-47a9-b4c8-8c7a11811e25",
   "metadata": {},
   "outputs": [],
   "source": [
    "top_insurance_plot1(Top_tran_tac_y,\"West Bengal\")"
   ]
  },
  {
   "cell_type": "code",
   "execution_count": null,
   "id": "bfabf68b-ea13-4023-a4ba-6b8df78c0604",
   "metadata": {},
   "outputs": [],
   "source": [
    "Top_tran_tac_y_Q = Transaction_amount_count_Y_Q(Top_tran_tac_y,3)"
   ]
  },
  {
   "cell_type": "code",
   "execution_count": null,
   "id": "b77a8d29-3f02-4c6b-8355-840f2a29894b",
   "metadata": {},
   "outputs": [],
   "source": [
    "# Top User"
   ]
  },
  {
   "cell_type": "code",
   "execution_count": null,
   "id": "dc70c5d0-8e4e-433f-b270-487ca09eccee",
   "metadata": {},
   "outputs": [],
   "source": [
    "top_user_Y = top_user_plot1(Top_user,2021)"
   ]
  },
  {
   "cell_type": "code",
   "execution_count": null,
   "id": "ebf17be2-d5ad-4798-b357-6d5e653dd4b1",
   "metadata": {},
   "outputs": [],
   "source": [
    "top_user_plot2(top_user_Y,\"Tamil Nadu\")"
   ]
  },
  {
   "cell_type": "code",
   "execution_count": null,
   "id": "7cdc2e66-ff3f-4199-bbb0-03ab0dc90808",
   "metadata": {},
   "outputs": [],
   "source": [
    "Top_user"
   ]
  },
  {
   "cell_type": "code",
   "execution_count": 75,
   "id": "393d7808-5f2c-4003-a901-8c864ac15c5d",
   "metadata": {},
   "outputs": [],
   "source": []
  },
  {
   "cell_type": "code",
   "execution_count": null,
   "id": "523f7122-0edd-4f59-a611-2a6842048a9e",
   "metadata": {},
   "outputs": [],
   "source": []
  }
 ],
 "metadata": {
  "kernelspec": {
   "display_name": "Python 3 (ipykernel)",
   "language": "python",
   "name": "python3"
  },
  "language_info": {
   "codemirror_mode": {
    "name": "ipython",
    "version": 3
   },
   "file_extension": ".py",
   "mimetype": "text/x-python",
   "name": "python",
   "nbconvert_exporter": "python",
   "pygments_lexer": "ipython3",
   "version": "3.12.0"
  }
 },
 "nbformat": 4,
 "nbformat_minor": 5
}
